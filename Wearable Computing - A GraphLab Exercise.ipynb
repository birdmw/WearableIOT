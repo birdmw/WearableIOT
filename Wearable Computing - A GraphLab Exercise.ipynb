{
 "cells": [
  {
   "cell_type": "markdown",
   "metadata": {},
   "source": [
    "# Wearable Computing\n",
    "## A Dato GraphLab Exercise for AccelOne\n",
    "### Author: Matthew Bird"
   ]
  },
  {
   "cell_type": "markdown",
   "metadata": {},
   "source": [
    "##Resources: \n",
    "\n",
    "- [Presentation from SBiA][df1]\n",
    "\n",
    "- [CSV data file][df2]\n",
    "[df1]: <http://groupware.les.inf.puc-rio.br/public/2012.SBIA.Ugulino.WearableComputing-Presentation.pdf>\n",
    "[df2]: <http://groupware.les.inf.puc-rio.br/static/har/dataset-har-PUC-Rio-ugulino.zip>\n",
    "\n",
    "##Problem Statement:\n",
    "\n",
    "- The overriding design goal for this project is to use the Dato GraphLab framework to produce a machine learning classifier capable of identifying human kinetic behavior from sensors attached to a person. The above mentioned Presentation and Data will be used for the purpose of this Notebook.\n",
    "\n",
    "## Outline:\n",
    "\n",
    "- 1.Load and Explore dataset\n",
    "- 2.Transform dataset into usable format\n",
    "- 3.Visualize data using Dato GraphLab\n",
    "- 4.Generate preliminary models using Dato GraphLab\n",
    "- 5.Feature Engineering\n",
    "- 6.Generate and tune a final model\n",
    "- 7.Examine Feature Space\n",
    "- 8.Conclusion\n",
    "\n"
   ]
  },
  {
   "cell_type": "markdown",
   "metadata": {},
   "source": [
    "##1. Load and Explore dataset:"
   ]
  },
  {
   "cell_type": "markdown",
   "metadata": {},
   "source": [
    "- ####Imports"
   ]
  },
  {
   "cell_type": "code",
   "execution_count": 108,
   "metadata": {
    "collapsed": false
   },
   "outputs": [],
   "source": [
    "import graphlab as gl\n",
    "import pandas as pd\n",
    "import math\n",
    "import numpy as np\n",
    "import matplotlib.pyplot as plt\n",
    "from sklearn.decomposition import PCA\n",
    "%matplotlib inline\n",
    "gl.canvas.set_target('ipynb')\n",
    "gl.canvas.set_target('browser')"
   ]
  },
  {
   "cell_type": "markdown",
   "metadata": {},
   "source": [
    "- ####Load Data"
   ]
  },
  {
   "cell_type": "code",
   "execution_count": 109,
   "metadata": {
    "collapsed": true
   },
   "outputs": [],
   "source": [
    "file_path = 'data/dataset-har-PUC-Rio-ugulino.csv'\n",
    "df = pd.read_csv (file_path, delimiter =\";\")"
   ]
  },
  {
   "cell_type": "markdown",
   "metadata": {},
   "source": [
    "##2. Transform dataset into usable format:"
   ]
  },
  {
   "cell_type": "markdown",
   "metadata": {},
   "source": [
    " - ####Function for transforming data\n",
    "  -Remove single bad data point\n",
    "  \n",
    "  -Converts data to useable types\n",
    "  \n",
    "  -Convert metric commas into decimals"
   ]
  },
  {
   "cell_type": "code",
   "execution_count": 110,
   "metadata": {
    "collapsed": true
   },
   "outputs": [],
   "source": [
    "def transform_data(data_frame):\n",
    "    \"\"\"\n",
    "    Accepts a DataFrame object\n",
    "    Returns modified DataFrame object\n",
    "    \"\"\"\n",
    "    data_frame = data_frame.drop(data_frame.index[[122076]]) #bad data point needs removal\n",
    "    for col in ['user', 'gender', 'class']:\n",
    "        data_frame[col] = data_frame[col].astype(str)\n",
    "    for col in ['age', 'weight', 'x1', 'x2', 'x3', 'x4', 'y1', 'y2', 'y3', 'y4', 'z1', 'z2', 'z3', 'z4']:\n",
    "        data_frame[col] = data_frame[col].astype(int)\n",
    "    for col in ['how_tall_in_meters', 'body_mass_index']:\n",
    "        data_frame[col] = data_frame[col].apply(lambda x: str(x).replace(\".\",\"\").replace(\",\",\".\"))\n",
    "        data_frame[col] = data_frame[col].astype(float)\n",
    "    return data_frame"
   ]
  },
  {
   "cell_type": "code",
   "execution_count": 111,
   "metadata": {
    "collapsed": false
   },
   "outputs": [],
   "source": [
    "df = transform_data(df)\n",
    "sf = gl.SFrame(data = df)"
   ]
  },
  {
   "cell_type": "markdown",
   "metadata": {},
   "source": [
    "##3. Visualize data using Dato GraphLab:"
   ]
  },
  {
   "cell_type": "markdown",
   "metadata": {},
   "source": [
    " - ####Using GraphLab Visualization we can see that our data includes 18 features\n",
    "  - **5 User metrics** (Name, Gender, Age, Height, BMI)  \n",
    "  - **12 sensor readings** (x1, y1, z1, x2, y2, z2, x3, y3, z3, x4, y4, z4)\n",
    "  - **1 Class** - Prediction target - (sitting, standing, walking, standingup, sittingdown)"
   ]
  },
  {
   "cell_type": "code",
   "execution_count": 112,
   "metadata": {
    "collapsed": false
   },
   "outputs": [
    {
     "name": "stdout",
     "output_type": "stream",
     "text": [
      "Canvas is accessible via web browser at the URL: http://localhost:36784/index.html\n",
      "Opening Canvas in default web browser.\n"
     ]
    }
   ],
   "source": [
    "sf.show()"
   ]
  },
  {
   "cell_type": "markdown",
   "metadata": {},
   "source": [
    "##4. Generate preliminary models using Dato GraphLab:"
   ]
  },
  {
   "cell_type": "markdown",
   "metadata": {},
   "source": [
    " - ####The GraphLab general classifier discovers that GradientBoostedTrees look promising with the highest accuracy of 97%\n",
    "  - BoostedTreesClassifier          : **0.976342788171**\n",
    "  - RandomForestClassifier          : 0.945443572722\n",
    "  - LogisticClassifier              : 0.837417"
   ]
  },
  {
   "cell_type": "code",
   "execution_count": 113,
   "metadata": {
    "collapsed": false
   },
   "outputs": [
    {
     "name": "stdout",
     "output_type": "stream",
     "text": [
      "PROGRESS: Creating a validation set from 5 percent of training data. This may take a while.\n",
      "          You can set ``validation_set=None`` to disable validation tracking.\n",
      "\n",
      "PROGRESS: The following methods are available for this type of problem.\n",
      "PROGRESS: BoostedTreesClassifier, RandomForestClassifier, LogisticClassifier\n",
      "PROGRESS: The returned model will be chosen according to validation accuracy.\n",
      "PROGRESS: Boosted trees classifier:\n",
      "PROGRESS: --------------------------------------------------------\n",
      "PROGRESS: Number of examples          : 157479\n",
      "PROGRESS: Number of classes           : 5\n",
      "PROGRESS: Number of feature columns   : 18\n",
      "PROGRESS: Number of unpacked features : 18\n",
      "PROGRESS: Starting Boosted Trees\n",
      "PROGRESS: --------------------------------------------------------\n",
      "PROGRESS:   Iter      Accuracy          Elapsed time\n",
      "PROGRESS:         (training) (validation)\n",
      "PROGRESS:      0   9.358e-01   9.378e-01        0.34s\n",
      "PROGRESS:      1   9.447e-01   9.425e-01        0.69s\n",
      "PROGRESS:      2   9.571e-01   9.529e-01        0.98s\n",
      "PROGRESS:      3   9.632e-01   9.604e-01        1.29s\n",
      "PROGRESS:      4   9.673e-01   9.654e-01        1.62s\n",
      "PROGRESS:      5   9.700e-01   9.687e-01        1.96s\n",
      "PROGRESS:      6   9.728e-01   9.715e-01        2.26s\n",
      "PROGRESS:      7   9.752e-01   9.746e-01        2.57s\n",
      "PROGRESS:      8   9.776e-01   9.767e-01        2.84s\n",
      "PROGRESS:      9   9.790e-01   9.790e-01        3.14s\n",
      "PROGRESS: Random forest classifier:\n",
      "PROGRESS: --------------------------------------------------------\n",
      "PROGRESS: Number of examples          : 157479\n",
      "PROGRESS: Number of classes           : 5\n",
      "PROGRESS: Number of feature columns   : 18\n",
      "PROGRESS: Number of unpacked features : 18\n",
      "PROGRESS: Starting Boosted Trees\n",
      "PROGRESS: --------------------------------------------------------\n",
      "PROGRESS:   Iter      Accuracy          Elapsed time\n",
      "PROGRESS:         (training) (validation)\n",
      "PROGRESS:      0   9.363e-01   9.345e-01        0.31s\n",
      "PROGRESS:      1   9.431e-01   9.410e-01        0.55s\n",
      "PROGRESS:      2   9.434e-01   9.428e-01        0.80s\n",
      "PROGRESS:      3   9.476e-01   9.470e-01        1.04s\n",
      "PROGRESS:      4   9.485e-01   9.475e-01        1.32s\n",
      "PROGRESS:      5   9.497e-01   9.476e-01        1.61s\n",
      "PROGRESS:      6   9.497e-01   9.460e-01        1.82s\n",
      " PROGRESS:      7   9.496e-01   9.458e-01        2.04s\n",
      "PROGRESS:      8   9.489e-01   9.458e-01        2.34s\n",
      "PROGRESS:      9   9.488e-01   9.454e-01        2.55s\n",
      "PROGRESS: Logistic regression:\n",
      "PROGRESS: --------------------------------------------------------\n",
      "PROGRESS: Number of examples          : 157479\n",
      "PROGRESS: Number of classes           : 5\n",
      "PROGRESS: Number of feature columns   : 18\n",
      "PROGRESS: Model selection based on validation accuracy:\n",
      "PROGRESS: ---------------------------------------------\n",
      "PROGRESS: BoostedTreesClassifier          : 0.979026125353\n",
      "PROGRESS: RandomForestClassifier          : 0.945418864222\n",
      "PROGRESS: LogisticClassifier              : 0.835398\n",
      "PROGRESS: ---------------------------------------------\n",
      "PROGRESS: Selecting BoostedTreesClassifier based on validation set performance.\n",
      "PROGRESS: Number of unpacked features : 18\n",
      "PROGRESS: Number of coefficients    : 84\n",
      "PROGRESS: Starting Newton Method\n",
      "PROGRESS: --------------------------------------------------------\n",
      "PROGRESS: +-----------+----------+--------------+-------------------+---------------------+\n",
      "PROGRESS: | Iteration | Passes   | Elapsed Time | Training-accuracy | Validation-accuracy |\n",
      "PROGRESS: +-----------+----------+--------------+-------------------+---------------------+\n",
      "PROGRESS: | 1         | 2        | 0.463771     | 0.795833          | 0.797988            |\n",
      "PROGRESS: | 2         | 3        | 0.720082     | 0.821481          | 0.827180            |\n",
      "PROGRESS: | 3         | 4        | 0.977213     | 0.827088          | 0.830737            |\n",
      "PROGRESS: | 4         | 5        | 1.229795     | 0.829692          | 0.832209            |\n",
      "PROGRESS: | 5         | 6        | 1.501069     | 0.831762          | 0.833681            |\n",
      "PROGRESS: | 6         | 7        | 1.751337     | 0.832492          | 0.835030            |\n",
      "PROGRESS: | 10        | 11       | 2.796580     | 0.832962          | 0.835398            |\n",
      "PROGRESS: +-----------+----------+--------------+-------------------+---------------------+\n"
     ]
    }
   ],
   "source": [
    "model = gl.classifier.create(sf, target='class')"
   ]
  },
  {
   "cell_type": "markdown",
   "metadata": {},
   "source": [
    " - ####We can go on to show that the model only uses 10 or so of features for the majority of its classification\n",
    "  \n",
    "  -Things like age, gender, and BMI show little utility and land to the right-hand side of the following graph"
   ]
  },
  {
   "cell_type": "code",
   "execution_count": 114,
   "metadata": {
    "collapsed": false
   },
   "outputs": [
    {
     "data": {
      "text/plain": [
       "[<matplotlib.lines.Line2D at 0x7ff89c1e8c90>]"
      ]
     },
     "execution_count": 114,
     "metadata": {},
     "output_type": "execute_result"
    },
    {
     "data": {
      "image/png": "[encoded data removed]",
      "text/plain": [
       "<matplotlib.figure.Figure at 0x7ff89c392950>"
      ]
     },
     "metadata": {},
     "output_type": "display_data"
    }
   ],
   "source": [
    "i_feats = model.get_feature_importance()\n",
    "f_imps = i_feats['count']\n",
    "plt.plot(f_imps)"
   ]
  },
  {
   "cell_type": "code",
   "execution_count": 115,
   "metadata": {
    "collapsed": false
   },
   "outputs": [
    {
     "name": "stdout",
     "output_type": "stream",
     "text": [
      "+--------------------+-------+\n",
      "|      feature       | count |\n",
      "+--------------------+-------+\n",
      "|         y3         |  295  |\n",
      "|         y2         |  250  |\n",
      "|         z1         |  242  |\n",
      "|         z2         |  228  |\n",
      "|         z3         |  218  |\n",
      "|         x4         |  202  |\n",
      "|         x3         |  200  |\n",
      "|         x2         |  165  |\n",
      "|         z4         |  161  |\n",
      "|         y1         |  132  |\n",
      "|         y4         |  118  |\n",
      "|         x1         |  111  |\n",
      "|        age         |   39  |\n",
      "|       weight       |   24  |\n",
      "|  body_mass_index   |   21  |\n",
      "| how_tall_in_meters |   15  |\n",
      "+--------------------+-------+\n",
      "[16 rows x 2 columns]\n",
      "\n"
     ]
    }
   ],
   "source": [
    "i_feats.print_rows(20) #gender not shown, but in test trials it was dead-last in importance"
   ]
  },
  {
   "cell_type": "markdown",
   "metadata": {},
   "source": [
    "##5. Feature Engineering:"
   ]
  },
  {
   "cell_type": "markdown",
   "metadata": {},
   "source": [
    "- ####First we convert non-numeric values into unique integers for Machine Learning friendliness\n",
    "- ####Next we consider that the acceleromer readings belong to 4 different sensors\n",
    "    -Sensor 1: x1, y2, z1\n",
    "    \n",
    "    -Sensor 2: x2, y2, z2\n",
    "    \n",
    "    -Sensor 3: x3, y3, z3\n",
    "    \n",
    "    -Sensor 4: x4, y4, z4\n",
    "    \n",
    "- ####We can calculate the latent features of Yaw and Pitch for each sensor using the following formulas\n",
    "    \n",
    "    -**Pitch, P =** atan( x / sqrt( y^2 + z^2 ) )\n",
    "    \n",
    "    -**Yaw, Y =** atan( y / sqrt( x^2 + z^2 ) )\n",
    "    \n",
    "    Source: [Freescale Semiconductor Document Number: AN3461 Application Note Rev. 6, 03/2013][df1]\n",
    "[df1]: <http://daringfireball.net/projects/markdown/>\n",
    "\n",
    "- ####Additionally the difference of Pitch and Roll between the devices has utility as they are mounted on different locations across the person wearing them. The relative difference between Yaw for sitting vs. standing for instance will be markedly different.\n",
    "    \n",
    "    -**n1n2PitchDiff =** Pitch_n1 - Pitch_n2 (for all devices n1 and n2 where n1 is not n2)\n",
    "    \n",
    "    -**n1n2RollDiff =** Roll_n1 - Roll_n2 (for all devices n1 and n2 where n1 is not n2)\n",
    "\n",
    "- ####Finally we perform Principal Component Analysis(PCA) to remove any co-linearity, and reduce the feature space down to a managable number of signifigant features"
   ]
  },
  {
   "cell_type": "code",
   "execution_count": 116,
   "metadata": {
    "collapsed": true
   },
   "outputs": [],
   "source": [
    "def convert_columns_to_unique_ints(data_frame):\n",
    "    '''\n",
    "    Accepts DataFrame object\n",
    "    Returns DataFrame where non-numeric values are given numeric values\n",
    "    '''\n",
    "    for col_name in ['user', 'gender', 'class']:\n",
    "        original_values = data_frame[col_name].unique()\n",
    "        new_values = range(len(original_values))\n",
    "        print \"converting\", original_values\n",
    "        print \"into......\", new_values\n",
    "        data_frame[col_name] = data_frame[col_name].replace(original_values, new_values)\n",
    "    return data_frame\n",
    "\n",
    "def pitch(x,y,z):\n",
    "    \"\"\"\n",
    "    Accepts accelerometer readings from a device and \n",
    "    Returns pitch angle\n",
    "    \"\"\"\n",
    "    return math.atan( x / math.sqrt( y**2 + z**2 ) )\n",
    "\n",
    "def roll(x,y,z):\n",
    "    \"\"\"\n",
    "    Accepts accelerometer readings from a device and \n",
    "    Returns roll angle\n",
    "    \"\"\"\n",
    "    return math.atan( y / math.sqrt( x**2 + z**2 ) )\n",
    "\n",
    "def add_pitch_roll(data_frame):\n",
    "    \"\"\"\n",
    "    Accepts DataFrame \n",
    "    Returns DataFrame with new columns for orientation angles\n",
    "    \"\"\"\n",
    "    result = data_frame.copy()\n",
    "    for i in range(1,5):\n",
    "        s = str(i)\n",
    "        result['pitch'+s] = np.vectorize(pitch)(result['x'+s], result['y'+s], result['z'+s])\n",
    "        result['roll'+s] = np.vectorize(roll)(result['x'+s], result['y'+s], result['z'+s])\n",
    "    return result\n",
    "\n",
    "def add_pitch_roll_diff(data_frame):\n",
    "    \"\"\"\n",
    "    Accepts DataFrame\n",
    "    Returns DataFrame with new columns for difference between orientation angles\n",
    "    \"\"\"\n",
    "    result = data_frame.copy()\n",
    "    for i in range(1,5):\n",
    "        for j in range(1,5):\n",
    "            s1, s2 = str(i), str(j)\n",
    "            if s1 != s2:\n",
    "                result['pitchdiff'+s1+s2] = np.vectorize(np.subtract)(result['pitch'+s1], result['pitch'+s2])\n",
    "                result['rolldiff'+s1+s2] = np.vectorize(np.subtract)(result['roll'+s1], result['roll'+s2])\n",
    "    return result\n",
    "\n",
    "def PCAIT(data_frame, n_features):\n",
    "    \"\"\"\n",
    "    Accepts DataFrame\n",
    "    Returns DataFrame which as been PCA reduced down to n_features\n",
    "    \"\"\"\n",
    "    result = data_frame.copy()\n",
    "    target = result.pop('class')\n",
    "    pca = PCA(n_components = n_features)\n",
    "    pca.fit(result)\n",
    "    result = pd.DataFrame(pca.transform(result))\n",
    "    result['class'] = target.astype(str)\n",
    "    return result"
   ]
  },
  {
   "cell_type": "markdown",
   "metadata": {},
   "source": [
    " - ####Perform the conversion"
   ]
  },
  {
   "cell_type": "code",
   "execution_count": 117,
   "metadata": {
    "collapsed": false
   },
   "outputs": [
    {
     "name": "stdout",
     "output_type": "stream",
     "text": [
      "converting ['debora' 'katia' 'wallace' 'jose_carlos']\n",
      "into...... [0, 1, 2, 3]\n",
      "converting ['Woman' 'Man']\n",
      "into...... [0, 1]\n",
      "converting ['sitting' 'sittingdown' 'standing' 'standingup' 'walking']\n",
      "into...... [0, 1, 2, 3, 4]\n"
     ]
    }
   ],
   "source": [
    "df = convert_columns_to_unique_ints(df) # convert columns with names into integer values\n",
    "df = add_pitch_roll(df)\n",
    "df = add_pitch_roll_diff(df)\n",
    "df_non_PCA = df.copy() # ignore this for now, we will use it on step 7\n",
    "df = PCAIT(df, n_features = 25) # 25 features are chosen because additional features showed diminishing returns"
   ]
  },
  {
   "cell_type": "markdown",
   "metadata": {},
   "source": [
    " - ####Normalize the data and ensure the target is of type int"
   ]
  },
  {
   "cell_type": "code",
   "execution_count": 118,
   "metadata": {
    "collapsed": true
   },
   "outputs": [],
   "source": [
    "def normalize(df, target):\n",
    "    \"\"\"\n",
    "    Accepts DataFrame object and a target column\n",
    "    Returns DataFrame with normalized columns (target is not normalized)\n",
    "    \"\"\"\n",
    "    result = df.copy()\n",
    "    for feature_name in df.columns:\n",
    "        if feature_name != target:\n",
    "            max_value = df[feature_name].max()\n",
    "            min_value = df[feature_name].min()\n",
    "            result[feature_name] = (df[feature_name] - min_value) / (max_value - min_value)\n",
    "    return result"
   ]
  },
  {
   "cell_type": "code",
   "execution_count": 119,
   "metadata": {
    "collapsed": true
   },
   "outputs": [],
   "source": [
    "df = normalize(df, 'class' )\n",
    "df['class'] = df['class'].astype(float).fillna(0).astype(int)\n",
    "sf = gl.SFrame(data = df)   #turn DataFrame into GraphLab SFrame object"
   ]
  },
  {
   "cell_type": "markdown",
   "metadata": {},
   "source": [
    "##6. Generate and tune model:"
   ]
  },
  {
   "cell_type": "markdown",
   "metadata": {},
   "source": [
    " - ####Next we generate a new GradientBoostedTrees classifier using our engineered features and tune the following parameters using a grid_search to maximize accuracy:\n",
    "    -max_iterations\n",
    "    \n",
    "    -max_depth\n",
    "    \n",
    "    -step_size\n",
    "    \n",
    "    -column_subsample\n",
    "    \n",
    "    -row_subsample"
   ]
  },
  {
   "cell_type": "code",
   "execution_count": 120,
   "metadata": {
    "collapsed": false
   },
   "outputs": [
    {
     "name": "stdout",
     "output_type": "stream",
     "text": [
      "PROGRESS: Creating a validation set from 5 percent of training data. This may take a while.\n",
      "          You can set ``validation_set=None`` to disable validation tracking.\n",
      "\n",
      "PROGRESS: Boosted trees classifier:\n",
      "PROGRESS: --------------------------------------------------------\n",
      "PROGRESS: Number of examples          : 141563\n",
      "PROGRESS: Number of classes           : 5\n",
      "PROGRESS: Number of feature columns   : 25\n",
      "PROGRESS: Number of unpacked features : 25\n",
      "PROGRESS: Starting Boosted Trees\n",
      "PROGRESS: --------------------------------------------------------\n",
      "PROGRESS:   Iter      Accuracy          Elapsed time\n",
      "PROGRESS:         (training) (validation)\n",
      "PROGRESS:      0   9.334e-01   9.289e-01        0.41s\n",
      "PROGRESS:      1   9.618e-01   9.558e-01        0.77s\n",
      "PROGRESS:      2   9.703e-01   9.640e-01        1.20s\n",
      "PROGRESS:      3   9.764e-01   9.726e-01        1.58s\n",
      "PROGRESS:      4   9.795e-01   9.750e-01        1.95s\n",
      "PROGRESS:      5   9.821e-01   9.780e-01        2.33s\n",
      "PROGRESS:      6   9.843e-01   9.809e-01        2.69s\n",
      "PROGRESS:      7   9.859e-01   9.822e-01        3.08s\n",
      "PROGRESS:      8   9.874e-01   9.838e-01        3.44s\n",
      "PROGRESS:      9   9.886e-01   9.855e-01        3.83s\n",
      "PROGRESS:     10   9.894e-01   9.865e-01        4.27s\n",
      "PROGRESS:     11   9.904e-01   9.873e-01        4.62s\n",
      "PROGRESS:     12   9.912e-01   9.886e-01        4.96s\n",
      "PROGRESS:     13   9.922e-01   9.890e-01        5.37s\n",
      "PROGRESS:     14   9.930e-01   9.897e-01        5.84s\n",
      "PROGRESS:     15   9.935e-01   9.904e-01        6.20s\n",
      "PROGRESS:     16   9.941e-01   9.905e-01        6.60s\n",
      "PROGRESS:     17   9.943e-01   9.908e-01        6.95s\n",
      "PROGRESS:     18   9.947e-01   9.915e-01        7.31s\n",
      "PROGRESS:     19   9.952e-01   9.919e-01        7.67s\n",
      "PROGRESS:     20   9.955e-01   9.924e-01        8.03s\n",
      "PROGRESS:     21   9.957e-01   9.931e-01        8.41s\n",
      "PROGRESS:     22   9.958e-01   9.931e-01        8.73s\n",
      "PROGRESS:     23   9.963e-01   9.935e-01        9.20s\n",
      "PROGRESS:     24   9.966e-01   9.938e-01        9.58s\n",
      "PROGRESS:     25   9.968e-01   9.939e-01        9.92s\n",
      "PROGRESS:     26   9.969e-01   9.942e-01       10.39s\n",
      "PROGRESS:     27   9.970e-01   9.942e-01       10.73s\n",
      "PROGRESS:     28   9.971e-01   9.942e-01       11.07s\n",
      "PROGRESS:     29   9.972e-01   9.942e-01       11.40s\n",
      "PROGRESS:     30   9.972e-01   9.942e-01       11.71s\n",
      "PROGRESS:     31   9.973e-01   9.945e-01       12.02s\n",
      "PROGRESS:     32   9.974e-01   9.946e-01       12.35s\n",
      "PROGRESS:     33   9.974e-01   9.946e-01       12.67s\n",
      "PROGRESS:     34   9.975e-01   9.943e-01       13.11s\n",
      "PROGRESS:     35   9.978e-01   9.949e-01       13.64s\n",
      "PROGRESS:     36   9.980e-01   9.953e-01       14.45s\n",
      "PROGRESS:     37   9.981e-01   9.954e-01       14.93s\n",
      "PROGRESS:     38   9.982e-01   9.954e-01       15.35s\n",
      "PROGRESS:     39   9.982e-01   9.951e-01       15.71s\n",
      "PROGRESS:     40   9.983e-01   9.951e-01       16.05s\n",
      "PROGRESS:     41   9.984e-01   9.951e-01       16.38s\n",
      "PROGRESS:     42   9.984e-01   9.953e-01       16.74s\n",
      "PROGRESS:     43   9.984e-01   9.953e-01       17.25s\n",
      "PROGRESS:     44   9.984e-01   9.954e-01       17.63s\n",
      "PROGRESS:     45   9.986e-01   9.955e-01       18.04s\n",
      "PROGRESS:     46   9.986e-01   9.958e-01       18.41s\n",
      "PROGRESS:     47   9.987e-01   9.959e-01       18.71s\n",
      "PROGRESS:     48   9.987e-01   9.959e-01       19.09s\n",
      "PROGRESS:     49   9.988e-01   9.958e-01       19.40s\n",
      "PROGRESS:     50   9.988e-01   9.958e-01       19.79s\n",
      "PROGRESS:     51   9.989e-01   9.961e-01       20.12s\n",
      "PROGRESS:     52   9.989e-01   9.959e-01       20.46s\n",
      "PROGRESS:     53   9.989e-01   9.959e-01       21.01s\n",
      "PROGRESS:     54   9.991e-01   9.961e-01       21.36s\n",
      "PROGRESS:     55   9.990e-01   9.961e-01       21.69s\n",
      "PROGRESS:     56   9.991e-01   9.962e-01       22.35s\n",
      "PROGRESS:     57   9.992e-01   9.961e-01       22.87s\n",
      "PROGRESS:     58   9.993e-01   9.962e-01       23.20s\n",
      "PROGRESS:     59   9.992e-01   9.961e-01       23.55s\n",
      "PROGRESS:     60   9.993e-01   9.963e-01       23.89s\n",
      "PROGRESS:     61   9.993e-01   9.961e-01       24.22s\n",
      "PROGRESS:     62   9.993e-01   9.962e-01       24.59s\n",
      "PROGRESS:     63   9.994e-01   9.961e-01       24.90s\n",
      "PROGRESS:     64   9.993e-01   9.962e-01       25.22s\n",
      "PROGRESS:     65   9.994e-01   9.961e-01       25.58s\n",
      "PROGRESS:     66   9.994e-01   9.961e-01       25.93s\n",
      "PROGRESS:     67   9.994e-01   9.961e-01       26.27s\n",
      "PROGRESS:     68   9.995e-01   9.962e-01       26.61s\n",
      "PROGRESS:     69   9.995e-01   9.963e-01       26.93s\n",
      "PROGRESS:     70   9.995e-01   9.962e-01       27.24s\n",
      "PROGRESS:     71   9.995e-01   9.963e-01       27.58s\n",
      "PROGRESS:     72   9.996e-01   9.963e-01       27.94s\n",
      "PROGRESS:     73   9.996e-01   9.965e-01       28.28s\n",
      "PROGRESS:     74   9.996e-01   9.966e-01       28.59s\n",
      "PROGRESS:     75   9.996e-01   9.965e-01       28.88s\n",
      "PROGRESS:     76   9.996e-01   9.965e-01       29.19s\n",
      "PROGRESS:     77   9.996e-01   9.966e-01       29.50s\n",
      "PROGRESS:     78   9.996e-01   9.966e-01       29.81s\n",
      "PROGRESS:     79   9.997e-01   9.966e-01       30.12s\n",
      "PROGRESS:     80   9.997e-01   9.968e-01       30.46s\n",
      "PROGRESS:     81   9.997e-01   9.968e-01       30.82s\n",
      "PROGRESS:     82   9.997e-01   9.968e-01       31.19s\n",
      "PROGRESS:     83   9.997e-01   9.966e-01       31.56s\n",
      "PROGRESS:     84   9.997e-01   9.965e-01       31.89s\n",
      "PROGRESS:     85   9.997e-01   9.966e-01       32.20s\n",
      "PROGRESS:     86   9.997e-01   9.965e-01       32.52s\n",
      "PROGRESS:     87   9.997e-01   9.965e-01       32.82s\n",
      "PROGRESS:     88   9.997e-01   9.968e-01       33.11s\n",
      "PROGRESS:     89   9.997e-01   9.968e-01       33.62s\n",
      "PROGRESS:     90   9.997e-01   9.968e-01       34.13s\n",
      "PROGRESS:     91   9.997e-01   9.969e-01       34.45s\n",
      "PROGRESS:     92   9.997e-01   9.968e-01       34.81s\n",
      "PROGRESS:     93   9.997e-01   9.969e-01       35.15s\n",
      "PROGRESS:     94   9.997e-01   9.969e-01       35.47s\n",
      "PROGRESS:     95   9.997e-01   9.970e-01       35.77s\n",
      "PROGRESS:     96   9.997e-01   9.970e-01       36.20s\n",
      "PROGRESS:     97   9.998e-01   9.970e-01       36.55s\n",
      "PROGRESS:     98   9.998e-01   9.969e-01       36.87s\n",
      "PROGRESS:     99   9.998e-01   9.970e-01       37.19s\n",
      "PROGRESS:    100   9.998e-01   9.969e-01       37.63s\n",
      "PROGRESS:    101   9.998e-01   9.969e-01       37.94s\n",
      "PROGRESS:    102   9.998e-01   9.969e-01       38.29s\n",
      "PROGRESS:    103   9.998e-01   9.969e-01       38.70s\n",
      "PROGRESS:    104   9.999e-01   9.969e-01       39.03s\n",
      "PROGRESS:    105   9.999e-01   9.969e-01       39.37s\n",
      "PROGRESS:    106   9.998e-01   9.970e-01       40.32s\n",
      "PROGRESS:    107   9.999e-01   9.970e-01       41.11s\n",
      "PROGRESS:    108   9.999e-01   9.969e-01       41.73s\n",
      "PROGRESS:    109   9.999e-01   9.969e-01       42.10s\n",
      "PROGRESS:    110   9.999e-01   9.969e-01       42.79s\n",
      "PROGRESS:    111   9.999e-01   9.970e-01       43.50s\n",
      "PROGRESS:    112   9.999e-01   9.970e-01       43.82s\n",
      "PROGRESS:    113   9.999e-01   9.970e-01       44.63s\n",
      "PROGRESS:    114   9.999e-01   9.969e-01       44.95s\n",
      "PROGRESS:    115   9.999e-01   9.970e-01       45.33s\n",
      "PROGRESS:    116   9.999e-01   9.970e-01       45.64s\n",
      "PROGRESS:    117   9.999e-01   9.970e-01       45.97s\n",
      "PROGRESS:    118   9.999e-01   9.970e-01       46.31s\n",
      "PROGRESS:    119   9.999e-01   9.969e-01       46.62s\n",
      "PROGRESS:    120   9.999e-01   9.970e-01       46.94s\n",
      "PROGRESS:    121   9.999e-01   9.969e-01       47.30s\n",
      "PROGRESS:    122   9.999e-01   9.970e-01       47.62s\n",
      "PROGRESS:    123   9.999e-01   9.970e-01       47.93s\n",
      "PROGRESS:    124   9.999e-01   9.970e-01       48.27s\n",
      "PROGRESS:    125   9.999e-01   9.970e-01       48.59s\n",
      "PROGRESS:    126   9.999e-01   9.970e-01       48.93s\n",
      "PROGRESS:    127   9.999e-01   9.970e-01       49.24s\n",
      "PROGRESS:    128   9.999e-01   9.970e-01       49.58s\n",
      "PROGRESS:    129   1.000e+00   9.970e-01       49.88s\n",
      "PROGRESS:    130   1.000e+00   9.970e-01       50.17s\n",
      "PROGRESS:    131   1.000e+00   9.970e-01       50.48s\n",
      "PROGRESS:    132   1.000e+00   9.970e-01       50.79s\n",
      "PROGRESS:    133   1.000e+00   9.970e-01       51.42s\n",
      "PROGRESS:    134   1.000e+00   9.970e-01       51.72s\n",
      "PROGRESS:    135   1.000e+00   9.970e-01       52.03s\n",
      "PROGRESS:    136   1.000e+00   9.970e-01       52.31s\n",
      "PROGRESS:    137   1.000e+00   9.970e-01       52.62s\n",
      "PROGRESS:    138   1.000e+00   9.970e-01       52.93s\n",
      "PROGRESS:    139   1.000e+00   9.970e-01       53.24s\n",
      "PROGRESS:    140   1.000e+00   9.970e-01       53.55s\n",
      "PROGRESS:    141   1.000e+00   9.970e-01       53.85s\n",
      "PROGRESS:    142   1.000e+00   9.970e-01       54.13s\n",
      "PROGRESS:    143   1.000e+00   9.970e-01       54.47s\n",
      "PROGRESS:    144   1.000e+00   9.970e-01       54.80s\n",
      "PROGRESS:    145   1.000e+00   9.970e-01       55.11s\n",
      "PROGRESS:    146   1.000e+00   9.970e-01       55.42s\n",
      "PROGRESS:    147   1.000e+00   9.970e-01       55.72s\n",
      "PROGRESS:    148   1.000e+00   9.970e-01       56.17s\n",
      "PROGRESS:    149   1.000e+00   9.970e-01       56.48s\n",
      "PROGRESS:    150   1.000e+00   9.970e-01       56.83s\n",
      "PROGRESS:    151   1.000e+00   9.970e-01       57.13s\n",
      "PROGRESS:    152   1.000e+00   9.970e-01       57.42s\n",
      "PROGRESS:    153   1.000e+00   9.970e-01       57.72s\n",
      "PROGRESS:    154   1.000e+00   9.970e-01       58.01s\n",
      "PROGRESS:    155   1.000e+00   9.970e-01       58.32s\n",
      "PROGRESS:    156   1.000e+00   9.970e-01       58.60s\n",
      "PROGRESS:    157   1.000e+00   9.969e-01       58.91s\n",
      "PROGRESS:    158   1.000e+00   9.970e-01       59.19s\n",
      "PROGRESS:    159   1.000e+00   9.970e-01       59.61s\n",
      "PROGRESS:    160   1.000e+00   9.970e-01       59.94s\n",
      "PROGRESS:    161   1.000e+00   9.970e-01       60.27s\n",
      "PROGRESS:    162   1.000e+00   9.970e-01       60.58s\n",
      "PROGRESS:    163   1.000e+00   9.969e-01       60.88s\n",
      "PROGRESS:    164   1.000e+00   9.970e-01       61.17s\n",
      "PROGRESS:    165   1.000e+00   9.970e-01       61.46s\n",
      "PROGRESS:    166   1.000e+00   9.970e-01       61.83s\n",
      "PROGRESS:    167   1.000e+00   9.970e-01       62.17s\n",
      "PROGRESS:    168   1.000e+00   9.970e-01       62.64s\n",
      "PROGRESS:    169   1.000e+00   9.970e-01       62.94s\n"
     ]
    }
   ],
   "source": [
    "train, test = sf.random_split(.9)  #randomly choose 10% of the data and set aside for model verification\n",
    "model = gl.boosted_trees_classifier.create(train, target='class', column_subsample=.55, max_depth=9, \n",
    "                                           max_iterations=170, min_child_weight=8, min_loss_reduction=0,\n",
    "                                           row_subsample=.85, step_size=.3)"
   ]
  },
  {
   "cell_type": "markdown",
   "metadata": {},
   "source": [
    " - ####Finally we inspect our new model and see that the accuracy of our classification has risen to ~99.65%\n",
    "  \n",
    "  - This is a rise of 3.5% over the best models performance from page 9 of the Presentation shown in the opening"
   ]
  },
  {
   "cell_type": "code",
   "execution_count": 121,
   "metadata": {
    "collapsed": false
   },
   "outputs": [
    {
     "name": "stdout",
     "output_type": "stream",
     "text": [
      "{'confusion_matrix': Columns:\n",
      "\ttarget_label\tint\n",
      "\tpredicted_label\tint\n",
      "\tcount\tint\n",
      "\n",
      "Rows: 17\n",
      "\n",
      "Data:\n",
      "+--------------+-----------------+-------+\n",
      "| target_label | predicted_label | count |\n",
      "+--------------+-----------------+-------+\n",
      "|      3       |        3        |  1271 |\n",
      "|      3       |        0        |   4   |\n",
      "|      3       |        1        |   7   |\n",
      "|      2       |        4        |   9   |\n",
      "|      3       |        2        |   5   |\n",
      "|      4       |        3        |   2   |\n",
      "|      4       |        2        |   3   |\n",
      "|      0       |        0        |  5151 |\n",
      "|      3       |        4        |   1   |\n",
      "|      1       |        1        |  1160 |\n",
      "+--------------+-----------------+-------+\n",
      "[17 rows x 3 columns]\n",
      "Note: Only the head of the SFrame is printed.\n",
      "You can use print_rows(num_rows=m, num_columns=n) to print more rows and columns., 'accuracy': 0.9968811851496432}\n"
     ]
    }
   ],
   "source": [
    "print model.evaluate(test)"
   ]
  },
  {
   "cell_type": "markdown",
   "metadata": {},
   "source": [
    " - ####We can go on to show that this model uses more of its feature space than the default model"
   ]
  },
  {
   "cell_type": "code",
   "execution_count": 122,
   "metadata": {
    "collapsed": false
   },
   "outputs": [
    {
     "data": {
      "text/plain": [
       "[<matplotlib.lines.Line2D at 0x7ff89c122e10>]"
      ]
     },
     "execution_count": 122,
     "metadata": {},
     "output_type": "execute_result"
    },
    {
     "data": {
      "image/png": "[encoded data removed]",
      "text/plain": [
       "<matplotlib.figure.Figure at 0x7ff89cca4410>"
      ]
     },
     "metadata": {},
     "output_type": "display_data"
    }
   ],
   "source": [
    "i_feats = model.get_feature_importance()\n",
    "f_imps = i_feats['count']\n",
    "plt.plot(f_imps)"
   ]
  },
  {
   "cell_type": "code",
   "execution_count": 123,
   "metadata": {
    "collapsed": false
   },
   "outputs": [
    {
     "name": "stdout",
     "output_type": "stream",
     "text": [
      "+---------+-------+\n",
      "| feature | count |\n",
      "+---------+-------+\n",
      "|    3    |  1157 |\n",
      "|    11   |  1151 |\n",
      "|    5    |  1137 |\n",
      "|    6    |  1131 |\n",
      "|    24   |  1126 |\n",
      "|    1    |  1099 |\n",
      "|    9    |  1073 |\n",
      "|    4    |  1073 |\n",
      "|    0    |  1037 |\n",
      "|    2    |  1030 |\n",
      "|    15   |  1005 |\n",
      "|    7    |  985  |\n",
      "|    17   |  958  |\n",
      "|    23   |  824  |\n",
      "|    12   |  791  |\n",
      "|    13   |  785  |\n",
      "|    14   |  784  |\n",
      "|    16   |  758  |\n",
      "+---------+-------+\n",
      "[25 rows x 2 columns]\n",
      "\n"
     ]
    }
   ],
   "source": [
    "i_feats.print_rows(18)"
   ]
  },
  {
   "cell_type": "markdown",
   "metadata": {},
   "source": [
    " - ####Since PCA precludes interpretability of the features, we can run the experiment again without PCA just to see what features are important and gain a little insight into our model"
   ]
  },
  {
   "cell_type": "markdown",
   "metadata": {},
   "source": [
    "##7. Examine Feature Space:"
   ]
  },
  {
   "cell_type": "markdown",
   "metadata": {},
   "source": [
    " - ####Using the df_non_PCA we set aside from step 5, let's see what features were important"
   ]
  },
  {
   "cell_type": "code",
   "execution_count": 124,
   "metadata": {
    "collapsed": false
   },
   "outputs": [],
   "source": [
    "df_non_PCA = normalize(df_non_PCA, 'class' )\n",
    "df_non_PCA['class'] = df_non_PCA['class'].astype(float).fillna(0).astype(int)\n",
    "sf_non_PCA = gl.SFrame(data = df_non_PCA)   #turn DataFrame into GraphLab SFrame object"
   ]
  },
  {
   "cell_type": "code",
   "execution_count": 128,
   "metadata": {
    "collapsed": false
   },
   "outputs": [
    {
     "name": "stdout",
     "output_type": "stream",
     "text": [
      "PROGRESS: Creating a validation set from 5 percent of training data. This may take a while.\n",
      "          You can set ``validation_set=None`` to disable validation tracking.\n",
      "\n",
      "PROGRESS: The following methods are available for this type of problem.\n",
      "PROGRESS: BoostedTreesClassifier, RandomForestClassifier, LogisticClassifier\n",
      "PROGRESS: The returned model will be chosen according to validation accuracy.\n",
      "PROGRESS: Boosted trees classifier:\n",
      "PROGRESS: --------------------------------------------------------\n",
      "PROGRESS: Number of examples          : 157322\n",
      "PROGRESS: Number of classes           : 5\n",
      "PROGRESS: Number of feature columns   : 50\n",
      "PROGRESS: Number of unpacked features : 50\n",
      "PROGRESS: Starting Boosted Trees\n",
      "PROGRESS: --------------------------------------------------------\n",
      "PROGRESS:   Iter      Accuracy          Elapsed time\n",
      "PROGRESS:         (training) (validation)\n",
      "PROGRESS:      0   9.414e-01   9.425e-01        0.73s\n",
      "PROGRESS:      1   9.530e-01   9.546e-01        1.45s\n",
      "PROGRESS:      2   9.605e-01   9.602e-01        2.10s\n",
      "PROGRESS:      3   9.658e-01   9.653e-01        2.79s\n",
      "PROGRESS:      4   9.697e-01   9.698e-01        3.45s\n",
      "PROGRESS:      5   9.738e-01   9.729e-01        4.10s\n",
      "PROGRESS:      6   9.764e-01   9.767e-01        4.77s\n",
      "PROGRESS:      7   9.781e-01   9.785e-01        5.45s\n",
      "PROGRESS:      8   9.800e-01   9.788e-01        6.13s\n",
      "PROGRESS:      9   9.819e-01   9.811e-01        6.77s\n",
      "PROGRESS: Random forest classifier:\n",
      "PROGRESS: --------------------------------------------------------\n",
      "PROGRESS: Number of examples          : 157322\n",
      "PROGRESS: Number of classes           : 5\n",
      "PROGRESS: Number of feature columns   : 50\n",
      "PROGRESS: Number of unpacked features : 50\n",
      "PROGRESS: Starting Boosted Trees\n",
      "PROGRESS: --------------------------------------------------------\n",
      "PROGRESS:   Iter      Accuracy          Elapsed time\n",
      "PROGRESS:         (training) (validation)\n",
      "PROGRESS:      0   9.441e-01   9.450e-01        0.64s\n",
      "PROGRESS:      1   9.444e-01   9.449e-01        1.09s\n",
      "PROGRESS:      2   9.452e-01   9.481e-01        1.57s\n",
      "PROGRESS:      3   9.467e-01   9.495e-01        2.01s\n",
      "PROGRESS:      4   9.473e-01   9.496e-01        2.49s\n",
      "PROGRESS:      5   9.483e-01   9.499e-01        2.97s\n",
      "PROGRESS:      6   9.478e-01   9.496e-01        3.49s\n",
      "PROGRESS:      7   9.482e-01   9.501e-01        3.98s\n",
      "PROGRESS:      8   9.490e-01   9.509e-01        4.44s\n",
      "PROGRESS:      9   9.495e-01   9.511e-01        5.02s\n",
      "PROGRESS: Logistic regression:\n",
      "PROGRESS: --------------------------------------------------------\n",
      "PROGRESS: Number of examples          : 157322\n",
      "PROGRESS: Number of classes           : 5\n",
      "PROGRESS: Number of feature columns   : 50\n",
      "PROGRESS: Number of unpacked features : 50\n",
      "PROGRESS: Number of coefficients    : 204\n",
      "PROGRESS: Starting Newton Method\n",
      "PROGRESS: --------------------------------------------------------\n",
      "PROGRESS: +-----------+----------+--------------+-------------------+---------------------+\n",
      "PROGRESS: | Iteration | Passes   | Elapsed Time | Training-accuracy | Validation-accuracy |\n",
      "PROGRESS: +-----------+----------+--------------+-------------------+---------------------+\n",
      "PROGRESS: | 1         | 2        | 1.693003     | 0.831893          | 0.832732            |\n",
      "PROGRESS: | 2         | 3        | 2.544757     | 0.868810          | 0.868111            |\n",
      "PROGRESS: | 3         | 4        | 3.378895     | 0.886875          | 0.887244            |\n",
      "PROGRESS: | 4         | 5        | 4.205652     | 0.897262          | 0.896992            |\n",
      "PROGRESS: | 5         | 6        | 5.037709     | 0.901451          | 0.900000            |\n",
      "PROGRESS: | 6         | 7        | 5.888723     | 0.903021          | 0.901685            |\n",
      "PROGRESS: | 10        | 11       | 9.374957     | 0.903593          | 0.902527            |\n",
      "PROGRESS: +-----------+----------+--------------+-------------------+---------------------+\n",
      "PROGRESS: Model selection based on validation accuracy:\n",
      "PROGRESS: ---------------------------------------------\n",
      "PROGRESS: BoostedTreesClassifier          : 0.98110709988\n",
      "PROGRESS: RandomForestClassifier          : 0.951143200963\n",
      "PROGRESS: LogisticClassifier              : 0.902527\n",
      "PROGRESS: ---------------------------------------------\n",
      "PROGRESS: Selecting BoostedTreesClassifier based on validation set performance.\n"
     ]
    }
   ],
   "source": [
    "model = gl.classifier.create(sf_non_PCA, target='class')"
   ]
  },
  {
   "cell_type": "markdown",
   "metadata": {},
   "source": [
    " - ####Print most signifigant features"
   ]
  },
  {
   "cell_type": "code",
   "execution_count": 137,
   "metadata": {
    "collapsed": false
   },
   "outputs": [
    {
     "name": "stdout",
     "output_type": "stream",
     "text": [
      "+------------+-------+\n",
      "|  feature   | count |\n",
      "+------------+-------+\n",
      "|     y3     |  203  |\n",
      "|     z2     |  160  |\n",
      "|     y2     |  151  |\n",
      "|     z1     |  138  |\n",
      "|     z3     |  116  |\n",
      "|     z4     |  113  |\n",
      "|     y1     |   93  |\n",
      "|   roll3    |   87  |\n",
      "|     x4     |   84  |\n",
      "|   roll2    |   74  |\n",
      "|     x2     |   66  |\n",
      "|   pitch4   |   60  |\n",
      "|   pitch3   |   57  |\n",
      "|    user    |   56  |\n",
      "|   roll4    |   52  |\n",
      "|    age     |   51  |\n",
      "|     x3     |   49  |\n",
      "|     y4     |   48  |\n",
      "|     x1     |   48  |\n",
      "|   pitch1   |   44  |\n",
      "|   pitch2   |   39  |\n",
      "| rolldiff31 |   38  |\n",
      "| rolldiff13 |   37  |\n",
      "| rolldiff23 |   35  |\n",
      "|   roll1    |   34  |\n",
      "+------------+-------+\n",
      "[50 rows x 2 columns]\n",
      "\n"
     ]
    }
   ],
   "source": [
    "i_feats = model.get_feature_importance()\n",
    "f_imps = i_feats['count']\n",
    "i_feats.print_rows(25)"
   ]
  },
  {
   "cell_type": "markdown",
   "metadata": {},
   "source": [
    "#8. Conclusion:\n",
    " - ###Engineering Features Roll/Pitch took us from 96% to 98% accuracy (Step 5)\n",
    " - ###PCA took us from 98% to 99.6% accuracy (Step 6)\n",
    " - ###Roll/Pitch-Difference seem to be less signifigant but was still useful\n"
   ]
  },
  {
   "cell_type": "code",
   "execution_count": null,
   "metadata": {
    "collapsed": true
   },
   "outputs": [],
   "source": []
  }
 ],
 "metadata": {
  "kernelspec": {
   "display_name": "Python 2",
   "language": "python",
   "name": "python2"
  },
  "language_info": {
   "codemirror_mode": {
    "name": "ipython",
    "version": 2
   },
   "file_extension": ".py",
   "mimetype": "text/x-python",
   "name": "python",
   "nbconvert_exporter": "python",
   "pygments_lexer": "ipython2",
   "version": "2.7.10"
  }
 },
 "nbformat": 4,
 "nbformat_minor": 0
}
