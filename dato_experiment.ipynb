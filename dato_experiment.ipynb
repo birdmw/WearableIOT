{
 "cells": [
  {
   "cell_type": "markdown",
   "metadata": {},
   "source": [
    "data available from:\n",
    "http://groupware.les.inf.puc-rio.br/static/har/dataset-har-PUC-Rio-ugulino.zip"
   ]
  },
  {
   "cell_type": "code",
   "execution_count": 1,
   "metadata": {
    "collapsed": true
   },
   "outputs": [],
   "source": [
    "import graphlab as gl"
   ]
  },
  {
   "cell_type": "code",
   "execution_count": 2,
   "metadata": {
    "collapsed": false
   },
   "outputs": [
    {
     "name": "stderr",
     "output_type": "stream",
     "text": [
      "[INFO] This trial license of GraphLab Create is assigned to birdmw@gmail.com and will expire on October 27, 2015. Please contact trial@dato.com for licensing options or to request a free non-commercial license for personal or academic use.\n",
      "\n",
      "[INFO] Start server at: ipc:///tmp/graphlab_server-3110 - Server binary: /home/birdmw/anaconda/lib/python2.7/site-packages/graphlab/unity_server - Server log: /tmp/graphlab_server_1445386703.log\n",
      "[INFO] GraphLab Server Version: 1.6.1\n"
     ]
    }
   ],
   "source": [
    "import pandas as pd\n",
    "import math\n",
    "import numpy as np\n",
    "import matplotlib.pyplot as plt\n",
    "from sklearn.decomposition import PCA"
   ]
  },
  {
   "cell_type": "code",
   "execution_count": 3,
   "metadata": {
    "collapsed": true
   },
   "outputs": [],
   "source": [
    "%matplotlib inline"
   ]
  },
  {
   "cell_type": "code",
   "execution_count": 4,
   "metadata": {
    "collapsed": false
   },
   "outputs": [],
   "source": [
    "gl.canvas.set_target('ipynb')\n",
    "gl.canvas.set_target('browser')"
   ]
  },
  {
   "cell_type": "code",
   "execution_count": 23,
   "metadata": {
    "collapsed": false
   },
   "outputs": [],
   "source": [
    "def fix_data(data_frame):\n",
    "    \"\"\"\n",
    "    Accepts a data_frame object - converts UK units to US. Ascribes proper data types, and drops one bad data point\n",
    "    \"\"\"\n",
    "    data_frame = data_frame.drop(data_frame.index[[122076]]) #bad data point needs removal\n",
    "    for col in ['user', 'gender', 'class']:\n",
    "        data_frame[col] = data_frame[col].astype(str)\n",
    "    for col in ['age', 'weight', 'x1', 'x2', 'x3', 'x4', 'y1', 'y2', 'y3', 'y4', 'z1', 'z2', 'z3', 'z4']:\n",
    "        data_frame[col] = data_frame[col].astype(int)\n",
    "    for col in ['how_tall_in_meters', 'body_mass_index']:\n",
    "        data_frame[col] = data_frame[col].apply(lambda x: str(x).replace(\".\",\"\").replace(\",\",\".\"))\n",
    "        data_frame[col] = data_frame[col].astype(float)\n",
    "    return data_frame\n",
    "        \n",
    "def convert_columns_to_unique_ints(data_frame):\n",
    "    '''\n",
    "    Accepts a data_frame object\n",
    "    replaces column values with unique integers representing each unique value.\n",
    "    '''\n",
    "    for col_name in ['user', 'gender', 'class']:\n",
    "        original_values = data_frame[col_name].unique()\n",
    "        new_values = range(len(original_values))\n",
    "        print \"converting\", original_values\n",
    "        print \"into......\", new_values\n",
    "        data_frame[col_name] = data_frame[col_name].replace(original_values, new_values)\n",
    "    return data_frame\n",
    "\n",
    "def normalize(df, target):\n",
    "    \"\"\"\n",
    "    Accepts data frame object and a target column (in our case it is \"class\")\n",
    "    \"\"\"\n",
    "    result = df.copy()\n",
    "    for feature_name in df.columns:\n",
    "        if feature_name != target:\n",
    "            max_value = df[feature_name].max()\n",
    "            min_value = df[feature_name].min()\n",
    "            result[feature_name] = (df[feature_name] - min_value) / (max_value - min_value)\n",
    "    return result\n",
    "\n",
    "def pitch(x,y,z): #x,y,z = float, float, float\n",
    "    \"\"\"\n",
    "    Accepts accelerometer readings from a device and returns a pitch angle\n",
    "    \"\"\"\n",
    "    return math.atan( x / math.sqrt( y**2 + z**2 ) )\n",
    "\n",
    "def roll(x,y,z): #x,y,z = float, float, float\n",
    "    \"\"\"\n",
    "    Accepts accelerometer readings from a device and returns a roll angle\n",
    "    \"\"\"\n",
    "    return math.atan( y / math.sqrt( x**2 + z**2 ) )\n",
    "\n",
    "def add_pitch_roll(data_frame):\n",
    "    \"\"\"\n",
    "    Accepts a data frame and returns a dataframe with new columns for the calculated roll and pitch angles\"\"\"\n",
    "    result = data_frame.copy()\n",
    "    for i in range(1,5):\n",
    "        s = str(i)\n",
    "        result['pitch'+s] = np.vectorize(pitch)(result['x'+s], result['y'+s], result['z'+s])\n",
    "        result['roll'+s] = np.vectorize(roll)(result['x'+s], result['y'+s], result['z'+s])\n",
    "    return result\n",
    "\n",
    "def add_pitch_roll_diff(data_frame):\n",
    "    \"\"\"Accepts data frame\n",
    "       returns data frame with new columns:\n",
    "           difference between pitch/roll of sensors\"\"\"\n",
    "    result = data_frame.copy()\n",
    "    for i in range(1,5):\n",
    "        for j in range(1,5):\n",
    "            s1, s2 = str(i), str(j)\n",
    "            if s1 != s2:\n",
    "                result['pitchdiff'+s1+s2] = np.vectorize(np.subtract)(result['pitch'+s1], result['pitch'+s2])\n",
    "                result['rolldiff'+s1+s2] = np.vectorize(np.subtract)(result['roll'+s1], result['roll'+s2])\n",
    "    return result\n",
    "\n",
    "def PCAIT(data_frame, n_features):\n",
    "    \"\"\"Accepts data_frame\n",
    "    retuens data_frame\n",
    "    which as been PCA reduced down to n_features\"\"\"\n",
    "    result = data_frame.copy()\n",
    "    target = result.pop('class')\n",
    "    pca = PCA(n_components = n_features)\n",
    "    pca.fit(result)\n",
    "    result = pd.DataFrame(pca.transform(result))\n",
    "    result['class'] = target.astype(str)\n",
    "    return result"
   ]
  },
  {
   "cell_type": "code",
   "execution_count": 24,
   "metadata": {
    "collapsed": false
   },
   "outputs": [],
   "source": [
    "file_path = 'data/dataset-har-PUC-Rio-ugulino.csv'\n",
    "df = pd.read_csv (file_path, delimiter =\";\")\n",
    "df = fix_data(df) #call once per read_csv"
   ]
  },
  {
   "cell_type": "code",
   "execution_count": 25,
   "metadata": {
    "collapsed": false
   },
   "outputs": [
    {
     "name": "stdout",
     "output_type": "stream",
     "text": [
      "converting ['debora' 'katia' 'wallace' 'jose_carlos']\n",
      "into...... [0, 1, 2, 3]\n",
      "converting ['Woman' 'Man']\n",
      "into...... [0, 1]\n",
      "converting ['sitting' 'sittingdown' 'standing' 'standingup' 'walking']\n",
      "into...... [0, 1, 2, 3, 4]\n"
     ]
    }
   ],
   "source": [
    "df = convert_columns_to_unique_ints(df) \n",
    "df = add_pitch_roll(df)\n",
    "df = add_pitch_roll_diff(df)\n",
    "df = PCAIT(df, n_features=25)"
   ]
  },
  {
   "cell_type": "code",
   "execution_count": 26,
   "metadata": {
    "collapsed": false
   },
   "outputs": [
    {
     "name": "stdout",
     "output_type": "stream",
     "text": [
      "165632\n",
      "165631\n",
      "0    50631\n",
      "2    47370\n",
      "4    43389\n",
      "3    12414\n",
      "1    11827\n",
      "dtype: int64\n"
     ]
    },
    {
     "data": {
      "text/plain": [
       "0        float64\n",
       "1        float64\n",
       "2        float64\n",
       "3        float64\n",
       "4        float64\n",
       "5        float64\n",
       "6        float64\n",
       "7        float64\n",
       "8        float64\n",
       "9        float64\n",
       "10       float64\n",
       "11       float64\n",
       "12       float64\n",
       "13       float64\n",
       "14       float64\n",
       "15       float64\n",
       "16       float64\n",
       "17       float64\n",
       "18       float64\n",
       "19       float64\n",
       "20       float64\n",
       "21       float64\n",
       "22       float64\n",
       "23       float64\n",
       "24       float64\n",
       "class     object\n",
       "dtype: object"
      ]
     },
     "execution_count": 26,
     "metadata": {},
     "output_type": "execute_result"
    }
   ],
   "source": [
    "print len(df)\n",
    "df = df.dropna()\n",
    "print len(df)\n",
    "print df['class'].value_counts()\n",
    "df.dtypes"
   ]
  },
  {
   "cell_type": "code",
   "execution_count": 27,
   "metadata": {
    "collapsed": false
   },
   "outputs": [
    {
     "data": {
      "text/plain": [
       "dtype('int64')"
      ]
     },
     "execution_count": 27,
     "metadata": {},
     "output_type": "execute_result"
    }
   ],
   "source": [
    "df = normalize(df, 'class' )\n",
    "sf = gl.SFrame(data = df)   #turn data frame into GraphLab SFrame object\n",
    "df['class'] = df['class'].astype(float).fillna(0).astype(int)\n"
   ]
  },
  {
   "cell_type": "code",
   "execution_count": 28,
   "metadata": {
    "collapsed": false,
    "scrolled": true
   },
   "outputs": [
    {
     "data": {
      "text/plain": [
       "\"\\n#combining height with roll-pitch difference\\nfor i in range(1,5):\\n    for j in range(1,5):\\n        print i, j\\n        s1, s2 = str(i), str(j)\\n        if s1 != s2:\\n            quadratic = gl.feature_engineering.create(sf, gl.feature_engineering.QuadraticFeatures(features = ['pitchdiff'+s1+s2, 'how_tall_in_meters']))\\n            sf = quadratic.transform(sf)\\n            quadratic = gl.feature_engineering.create(sf, gl.feature_engineering.QuadraticFeatures(features = ['rolldiff'+s1+s2, 'how_tall_in_meters']))\\n            sf = quadratic.transform(sf)\\n\""
      ]
     },
     "execution_count": 28,
     "metadata": {},
     "output_type": "execute_result"
    }
   ],
   "source": [
    "'''\n",
    "#combining height with roll-pitch difference\n",
    "for i in range(1,5):\n",
    "    for j in range(1,5):\n",
    "        print i, j\n",
    "        s1, s2 = str(i), str(j)\n",
    "        if s1 != s2:\n",
    "            quadratic = gl.feature_engineering.create(sf, gl.feature_engineering.QuadraticFeatures(features = ['pitchdiff'+s1+s2, 'how_tall_in_meters']))\n",
    "            sf = quadratic.transform(sf)\n",
    "            quadratic = gl.feature_engineering.create(sf, gl.feature_engineering.QuadraticFeatures(features = ['rolldiff'+s1+s2, 'how_tall_in_meters']))\n",
    "            sf = quadratic.transform(sf)\n",
    "'''"
   ]
  },
  {
   "cell_type": "code",
   "execution_count": 29,
   "metadata": {
    "collapsed": false
   },
   "outputs": [],
   "source": [
    "#sf.head()  # take a look at the new columns that have been added"
   ]
  },
  {
   "cell_type": "markdown",
   "metadata": {},
   "source": [
    "BUILD A MODEL"
   ]
  },
  {
   "cell_type": "code",
   "execution_count": 80,
   "metadata": {
    "collapsed": false,
    "scrolled": false
   },
   "outputs": [
    {
     "name": "stderr",
     "output_type": "stream",
     "text": [
      "[INFO] Validating job.\n",
      "[INFO] Validation complete. Job: 'Model-Parameter-Search-Oct-21-2015-01-30-4000000' ready for execution\n",
      "[INFO] Job: 'Model-Parameter-Search-Oct-21-2015-01-30-4000000' scheduled.\n",
      "[INFO] Validating job.\n",
      "[INFO] A job with name 'Model-Parameter-Search-Oct-21-2015-01-30-4000000' already exists. Renaming the job to 'Model-Parameter-Search-Oct-21-2015-01-30-4000000-89c71'.\n",
      "[INFO] Validation complete. Job: 'Model-Parameter-Search-Oct-21-2015-01-30-4000000-89c71' ready for execution\n",
      "[INFO] Job: 'Model-Parameter-Search-Oct-21-2015-01-30-4000000-89c71' scheduled.\n"
     ]
    },
    {
     "data": {
      "text/html": [
       "<div style=\"max-height:1000px;max-width:1500px;overflow:auto;\"><table frame=\"box\" rules=\"cols\">\n",
       "    <tr>\n",
       "        <th style=\"padding-left: 1em; padding-right: 1em; text-align: center\">model_id</th>\n",
       "        <th style=\"padding-left: 1em; padding-right: 1em; text-align: center\">column_subsample</th>\n",
       "        <th style=\"padding-left: 1em; padding-right: 1em; text-align: center\">max_depth</th>\n",
       "        <th style=\"padding-left: 1em; padding-right: 1em; text-align: center\">max_iterations</th>\n",
       "        <th style=\"padding-left: 1em; padding-right: 1em; text-align: center\">min_child_weight</th>\n",
       "        <th style=\"padding-left: 1em; padding-right: 1em; text-align: center\">min_loss_reduction</th>\n",
       "        <th style=\"padding-left: 1em; padding-right: 1em; text-align: center\">row_subsample</th>\n",
       "        <th style=\"padding-left: 1em; padding-right: 1em; text-align: center\">step_size</th>\n",
       "    </tr>\n",
       "    <tr>\n",
       "        <td style=\"padding-left: 1em; padding-right: 1em; text-align: center; vertical-align: top\">9</td>\n",
       "        <td style=\"padding-left: 1em; padding-right: 1em; text-align: center; vertical-align: top\">0.55</td>\n",
       "        <td style=\"padding-left: 1em; padding-right: 1em; text-align: center; vertical-align: top\">8</td>\n",
       "        <td style=\"padding-left: 1em; padding-right: 1em; text-align: center; vertical-align: top\">180</td>\n",
       "        <td style=\"padding-left: 1em; padding-right: 1em; text-align: center; vertical-align: top\">4</td>\n",
       "        <td style=\"padding-left: 1em; padding-right: 1em; text-align: center; vertical-align: top\">10</td>\n",
       "        <td style=\"padding-left: 1em; padding-right: 1em; text-align: center; vertical-align: top\">0.85</td>\n",
       "        <td style=\"padding-left: 1em; padding-right: 1em; text-align: center; vertical-align: top\">0.3</td>\n",
       "    </tr>\n",
       "    <tr>\n",
       "        <td style=\"padding-left: 1em; padding-right: 1em; text-align: center; vertical-align: top\">5</td>\n",
       "        <td style=\"padding-left: 1em; padding-right: 1em; text-align: center; vertical-align: top\">0.65</td>\n",
       "        <td style=\"padding-left: 1em; padding-right: 1em; text-align: center; vertical-align: top\">9</td>\n",
       "        <td style=\"padding-left: 1em; padding-right: 1em; text-align: center; vertical-align: top\">180</td>\n",
       "        <td style=\"padding-left: 1em; padding-right: 1em; text-align: center; vertical-align: top\">4</td>\n",
       "        <td style=\"padding-left: 1em; padding-right: 1em; text-align: center; vertical-align: top\">1</td>\n",
       "        <td style=\"padding-left: 1em; padding-right: 1em; text-align: center; vertical-align: top\">0.75</td>\n",
       "        <td style=\"padding-left: 1em; padding-right: 1em; text-align: center; vertical-align: top\">0.3</td>\n",
       "    </tr>\n",
       "    <tr>\n",
       "        <td style=\"padding-left: 1em; padding-right: 1em; text-align: center; vertical-align: top\">4</td>\n",
       "        <td style=\"padding-left: 1em; padding-right: 1em; text-align: center; vertical-align: top\">0.65</td>\n",
       "        <td style=\"padding-left: 1em; padding-right: 1em; text-align: center; vertical-align: top\">8</td>\n",
       "        <td style=\"padding-left: 1em; padding-right: 1em; text-align: center; vertical-align: top\">180</td>\n",
       "        <td style=\"padding-left: 1em; padding-right: 1em; text-align: center; vertical-align: top\">1</td>\n",
       "        <td style=\"padding-left: 1em; padding-right: 1em; text-align: center; vertical-align: top\">1</td>\n",
       "        <td style=\"padding-left: 1em; padding-right: 1em; text-align: center; vertical-align: top\">0.75</td>\n",
       "        <td style=\"padding-left: 1em; padding-right: 1em; text-align: center; vertical-align: top\">0.3</td>\n",
       "    </tr>\n",
       "    <tr>\n",
       "        <td style=\"padding-left: 1em; padding-right: 1em; text-align: center; vertical-align: top\">6</td>\n",
       "        <td style=\"padding-left: 1em; padding-right: 1em; text-align: center; vertical-align: top\">0.65</td>\n",
       "        <td style=\"padding-left: 1em; padding-right: 1em; text-align: center; vertical-align: top\">9</td>\n",
       "        <td style=\"padding-left: 1em; padding-right: 1em; text-align: center; vertical-align: top\">170</td>\n",
       "        <td style=\"padding-left: 1em; padding-right: 1em; text-align: center; vertical-align: top\">8</td>\n",
       "        <td style=\"padding-left: 1em; padding-right: 1em; text-align: center; vertical-align: top\">0</td>\n",
       "        <td style=\"padding-left: 1em; padding-right: 1em; text-align: center; vertical-align: top\">0.75</td>\n",
       "        <td style=\"padding-left: 1em; padding-right: 1em; text-align: center; vertical-align: top\">0.4</td>\n",
       "    </tr>\n",
       "    <tr>\n",
       "        <td style=\"padding-left: 1em; padding-right: 1em; text-align: center; vertical-align: top\">8</td>\n",
       "        <td style=\"padding-left: 1em; padding-right: 1em; text-align: center; vertical-align: top\">0.55</td>\n",
       "        <td style=\"padding-left: 1em; padding-right: 1em; text-align: center; vertical-align: top\">9</td>\n",
       "        <td style=\"padding-left: 1em; padding-right: 1em; text-align: center; vertical-align: top\">170</td>\n",
       "        <td style=\"padding-left: 1em; padding-right: 1em; text-align: center; vertical-align: top\">2</td>\n",
       "        <td style=\"padding-left: 1em; padding-right: 1em; text-align: center; vertical-align: top\">0</td>\n",
       "        <td style=\"padding-left: 1em; padding-right: 1em; text-align: center; vertical-align: top\">0.75</td>\n",
       "        <td style=\"padding-left: 1em; padding-right: 1em; text-align: center; vertical-align: top\">0.4</td>\n",
       "    </tr>\n",
       "    <tr>\n",
       "        <td style=\"padding-left: 1em; padding-right: 1em; text-align: center; vertical-align: top\">1</td>\n",
       "        <td style=\"padding-left: 1em; padding-right: 1em; text-align: center; vertical-align: top\">0.55</td>\n",
       "        <td style=\"padding-left: 1em; padding-right: 1em; text-align: center; vertical-align: top\">8</td>\n",
       "        <td style=\"padding-left: 1em; padding-right: 1em; text-align: center; vertical-align: top\">180</td>\n",
       "        <td style=\"padding-left: 1em; padding-right: 1em; text-align: center; vertical-align: top\">4</td>\n",
       "        <td style=\"padding-left: 1em; padding-right: 1em; text-align: center; vertical-align: top\">0</td>\n",
       "        <td style=\"padding-left: 1em; padding-right: 1em; text-align: center; vertical-align: top\">0.85</td>\n",
       "        <td style=\"padding-left: 1em; padding-right: 1em; text-align: center; vertical-align: top\">0.3</td>\n",
       "    </tr>\n",
       "    <tr>\n",
       "        <td style=\"padding-left: 1em; padding-right: 1em; text-align: center; vertical-align: top\">2</td>\n",
       "        <td style=\"padding-left: 1em; padding-right: 1em; text-align: center; vertical-align: top\">0.55</td>\n",
       "        <td style=\"padding-left: 1em; padding-right: 1em; text-align: center; vertical-align: top\">9</td>\n",
       "        <td style=\"padding-left: 1em; padding-right: 1em; text-align: center; vertical-align: top\">180</td>\n",
       "        <td style=\"padding-left: 1em; padding-right: 1em; text-align: center; vertical-align: top\">1</td>\n",
       "        <td style=\"padding-left: 1em; padding-right: 1em; text-align: center; vertical-align: top\">0</td>\n",
       "        <td style=\"padding-left: 1em; padding-right: 1em; text-align: center; vertical-align: top\">0.75</td>\n",
       "        <td style=\"padding-left: 1em; padding-right: 1em; text-align: center; vertical-align: top\">0.3</td>\n",
       "    </tr>\n",
       "    <tr>\n",
       "        <td style=\"padding-left: 1em; padding-right: 1em; text-align: center; vertical-align: top\">0</td>\n",
       "        <td style=\"padding-left: 1em; padding-right: 1em; text-align: center; vertical-align: top\">0.65</td>\n",
       "        <td style=\"padding-left: 1em; padding-right: 1em; text-align: center; vertical-align: top\">8</td>\n",
       "        <td style=\"padding-left: 1em; padding-right: 1em; text-align: center; vertical-align: top\">180</td>\n",
       "        <td style=\"padding-left: 1em; padding-right: 1em; text-align: center; vertical-align: top\">2</td>\n",
       "        <td style=\"padding-left: 1em; padding-right: 1em; text-align: center; vertical-align: top\">1</td>\n",
       "        <td style=\"padding-left: 1em; padding-right: 1em; text-align: center; vertical-align: top\">0.85</td>\n",
       "        <td style=\"padding-left: 1em; padding-right: 1em; text-align: center; vertical-align: top\">0.3</td>\n",
       "    </tr>\n",
       "    <tr>\n",
       "        <td style=\"padding-left: 1em; padding-right: 1em; text-align: center; vertical-align: top\">7</td>\n",
       "        <td style=\"padding-left: 1em; padding-right: 1em; text-align: center; vertical-align: top\">0.65</td>\n",
       "        <td style=\"padding-left: 1em; padding-right: 1em; text-align: center; vertical-align: top\">9</td>\n",
       "        <td style=\"padding-left: 1em; padding-right: 1em; text-align: center; vertical-align: top\">180</td>\n",
       "        <td style=\"padding-left: 1em; padding-right: 1em; text-align: center; vertical-align: top\">4</td>\n",
       "        <td style=\"padding-left: 1em; padding-right: 1em; text-align: center; vertical-align: top\">0</td>\n",
       "        <td style=\"padding-left: 1em; padding-right: 1em; text-align: center; vertical-align: top\">0.75</td>\n",
       "        <td style=\"padding-left: 1em; padding-right: 1em; text-align: center; vertical-align: top\">0.3</td>\n",
       "    </tr>\n",
       "    <tr>\n",
       "        <td style=\"padding-left: 1em; padding-right: 1em; text-align: center; vertical-align: top\">3</td>\n",
       "        <td style=\"padding-left: 1em; padding-right: 1em; text-align: center; vertical-align: top\">0.55</td>\n",
       "        <td style=\"padding-left: 1em; padding-right: 1em; text-align: center; vertical-align: top\">9</td>\n",
       "        <td style=\"padding-left: 1em; padding-right: 1em; text-align: center; vertical-align: top\">170</td>\n",
       "        <td style=\"padding-left: 1em; padding-right: 1em; text-align: center; vertical-align: top\">8</td>\n",
       "        <td style=\"padding-left: 1em; padding-right: 1em; text-align: center; vertical-align: top\">0</td>\n",
       "        <td style=\"padding-left: 1em; padding-right: 1em; text-align: center; vertical-align: top\">0.85</td>\n",
       "        <td style=\"padding-left: 1em; padding-right: 1em; text-align: center; vertical-align: top\">0.3</td>\n",
       "    </tr>\n",
       "</table>\n",
       "<table frame=\"box\" rules=\"cols\">\n",
       "    <tr>\n",
       "        <th style=\"padding-left: 1em; padding-right: 1em; text-align: center\">target</th>\n",
       "        <th style=\"padding-left: 1em; padding-right: 1em; text-align: center\">training_accuracy</th>\n",
       "        <th style=\"padding-left: 1em; padding-right: 1em; text-align: center\">validation_accuracy</th>\n",
       "    </tr>\n",
       "    <tr>\n",
       "        <td style=\"padding-left: 1em; padding-right: 1em; text-align: center; vertical-align: top\">class</td>\n",
       "        <td style=\"padding-left: 1em; padding-right: 1em; text-align: center; vertical-align: top\">0.995828510122</td>\n",
       "        <td style=\"padding-left: 1em; padding-right: 1em; text-align: center; vertical-align: top\">0.993184148622</td>\n",
       "    </tr>\n",
       "    <tr>\n",
       "        <td style=\"padding-left: 1em; padding-right: 1em; text-align: center; vertical-align: top\">class</td>\n",
       "        <td style=\"padding-left: 1em; padding-right: 1em; text-align: center; vertical-align: top\">0.999837579798</td>\n",
       "        <td style=\"padding-left: 1em; padding-right: 1em; text-align: center; vertical-align: top\">0.996501598408</td>\n",
       "    </tr>\n",
       "    <tr>\n",
       "        <td style=\"padding-left: 1em; padding-right: 1em; text-align: center; vertical-align: top\">class</td>\n",
       "        <td style=\"padding-left: 1em; padding-right: 1em; text-align: center; vertical-align: top\">0.999795228109</td>\n",
       "        <td style=\"padding-left: 1em; padding-right: 1em; text-align: center; vertical-align: top\">0.996501598408</td>\n",
       "    </tr>\n",
       "    <tr>\n",
       "        <td style=\"padding-left: 1em; padding-right: 1em; text-align: center; vertical-align: top\">class</td>\n",
       "        <td style=\"padding-left: 1em; padding-right: 1em; text-align: center; vertical-align: top\">1.0</td>\n",
       "        <td style=\"padding-left: 1em; padding-right: 1em; text-align: center; vertical-align: top\">0.996984136558</td>\n",
       "    </tr>\n",
       "    <tr>\n",
       "        <td style=\"padding-left: 1em; padding-right: 1em; text-align: center; vertical-align: top\">class</td>\n",
       "        <td style=\"padding-left: 1em; padding-right: 1em; text-align: center; vertical-align: top\">1.0</td>\n",
       "        <td style=\"padding-left: 1em; padding-right: 1em; text-align: center; vertical-align: top\">0.997104771096</td>\n",
       "    </tr>\n",
       "    <tr>\n",
       "        <td style=\"padding-left: 1em; padding-right: 1em; text-align: center; vertical-align: top\">class</td>\n",
       "        <td style=\"padding-left: 1em; padding-right: 1em; text-align: center; vertical-align: top\">1.0</td>\n",
       "        <td style=\"padding-left: 1em; padding-right: 1em; text-align: center; vertical-align: top\">0.997104771096</td>\n",
       "    </tr>\n",
       "    <tr>\n",
       "        <td style=\"padding-left: 1em; padding-right: 1em; text-align: center; vertical-align: top\">class</td>\n",
       "        <td style=\"padding-left: 1em; padding-right: 1em; text-align: center; vertical-align: top\">1.0</td>\n",
       "        <td style=\"padding-left: 1em; padding-right: 1em; text-align: center; vertical-align: top\">0.997104771096</td>\n",
       "    </tr>\n",
       "    <tr>\n",
       "        <td style=\"padding-left: 1em; padding-right: 1em; text-align: center; vertical-align: top\">class</td>\n",
       "        <td style=\"padding-left: 1em; padding-right: 1em; text-align: center; vertical-align: top\">0.999858780998</td>\n",
       "        <td style=\"padding-left: 1em; padding-right: 1em; text-align: center; vertical-align: top\">0.997165088365</td>\n",
       "    </tr>\n",
       "    <tr>\n",
       "        <td style=\"padding-left: 1em; padding-right: 1em; text-align: center; vertical-align: top\">class</td>\n",
       "        <td style=\"padding-left: 1em; padding-right: 1em; text-align: center; vertical-align: top\">1.0</td>\n",
       "        <td style=\"padding-left: 1em; padding-right: 1em; text-align: center; vertical-align: top\">0.997225405634</td>\n",
       "    </tr>\n",
       "    <tr>\n",
       "        <td style=\"padding-left: 1em; padding-right: 1em; text-align: center; vertical-align: top\">class</td>\n",
       "        <td style=\"padding-left: 1em; padding-right: 1em; text-align: center; vertical-align: top\">1.0</td>\n",
       "        <td style=\"padding-left: 1em; padding-right: 1em; text-align: center; vertical-align: top\">0.997346040171</td>\n",
       "    </tr>\n",
       "</table>\n",
       "[10 rows x 11 columns]<br/>\n",
       "</div>"
      ],
      "text/plain": [
       "Columns:\n",
       "\tmodel_id\tint\n",
       "\tcolumn_subsample\tfloat\n",
       "\tmax_depth\tint\n",
       "\tmax_iterations\tint\n",
       "\tmin_child_weight\tint\n",
       "\tmin_loss_reduction\tint\n",
       "\trow_subsample\tfloat\n",
       "\tstep_size\tfloat\n",
       "\ttarget\tstr\n",
       "\ttraining_accuracy\tfloat\n",
       "\tvalidation_accuracy\tfloat\n",
       "\n",
       "Rows: 10\n",
       "\n",
       "Data:\n",
       "+----------+------------------+-----------+----------------+------------------+\n",
       "| model_id | column_subsample | max_depth | max_iterations | min_child_weight |\n",
       "+----------+------------------+-----------+----------------+------------------+\n",
       "|    9     |       0.55       |     8     |      180       |        4         |\n",
       "|    5     |       0.65       |     9     |      180       |        4         |\n",
       "|    4     |       0.65       |     8     |      180       |        1         |\n",
       "|    6     |       0.65       |     9     |      170       |        8         |\n",
       "|    8     |       0.55       |     9     |      170       |        2         |\n",
       "|    1     |       0.55       |     8     |      180       |        4         |\n",
       "|    2     |       0.55       |     9     |      180       |        1         |\n",
       "|    0     |       0.65       |     8     |      180       |        2         |\n",
       "|    7     |       0.65       |     9     |      180       |        4         |\n",
       "|    3     |       0.55       |     9     |      170       |        8         |\n",
       "+----------+------------------+-----------+----------------+------------------+\n",
       "+--------------------+---------------+-----------+--------+-------------------+\n",
       "| min_loss_reduction | row_subsample | step_size | target | training_accuracy |\n",
       "+--------------------+---------------+-----------+--------+-------------------+\n",
       "|         10         |      0.85     |    0.3    | class  |   0.995828510122  |\n",
       "|         1          |      0.75     |    0.3    | class  |   0.999837579798  |\n",
       "|         1          |      0.75     |    0.3    | class  |   0.999795228109  |\n",
       "|         0          |      0.75     |    0.4    | class  |        1.0        |\n",
       "|         0          |      0.75     |    0.4    | class  |        1.0        |\n",
       "|         0          |      0.85     |    0.3    | class  |        1.0        |\n",
       "|         0          |      0.75     |    0.3    | class  |        1.0        |\n",
       "|         1          |      0.85     |    0.3    | class  |   0.999858780998  |\n",
       "|         0          |      0.75     |    0.3    | class  |        1.0        |\n",
       "|         0          |      0.85     |    0.3    | class  |        1.0        |\n",
       "+--------------------+---------------+-----------+--------+-------------------+\n",
       "+---------------------+\n",
       "| validation_accuracy |\n",
       "+---------------------+\n",
       "|    0.993184148622   |\n",
       "|    0.996501598408   |\n",
       "|    0.996501598408   |\n",
       "|    0.996984136558   |\n",
       "|    0.997104771096   |\n",
       "|    0.997104771096   |\n",
       "|    0.997104771096   |\n",
       "|    0.997165088365   |\n",
       "|    0.997225405634   |\n",
       "|    0.997346040171   |\n",
       "+---------------------+\n",
       "[10 rows x 11 columns]"
      ]
     },
     "execution_count": 80,
     "metadata": {},
     "output_type": "execute_result"
    }
   ],
   "source": [
    "### THIS CODE WILL TAKE A LONG TIME (5-10 minutes on a fast computer) ###\n",
    "# This is a snippit of the tuning code I used to hone in on the best parameters for our model\n",
    "# The actual seach involved tweaking these parameters many times\n",
    "\n",
    "\n",
    "train, test = sf.random_split(.9)  # split data into a training and test set\n",
    "params = dict([('target', 'class'),('max_iterations', [180, 170]),('max_depth', [9,8]),('step_size', [.3,.4]),\n",
    "               ('column_subsample', [.65, .55]), ('row_subsample', [.85, .75])\n",
    "              ])\n",
    "job = gl.model_parameter_search.create((train, test), gl.boosted_trees_classifier.create, params)\n",
    "job.get_results().sort('validation_accuracy')\n",
    "\n",
    "\n",
    "# given parameters (see: params), cycle through them and find the best validation accuracy"
   ]
  },
  {
   "cell_type": "code",
   "execution_count": null,
   "metadata": {
    "collapsed": false
   },
   "outputs": [],
   "source": []
  },
  {
   "cell_type": "code",
   "execution_count": 82,
   "metadata": {
    "collapsed": false
   },
   "outputs": [
    {
     "name": "stdout",
     "output_type": "stream",
     "text": [
      "PROGRESS: Creating a validation set from 5 percent of training data. This may take a while.\n",
      "          You can set ``validation_set=None`` to disable validation tracking.\n",
      "\n",
      "PROGRESS: Boosted trees classifier:\n",
      "PROGRESS: --------------------------------------------------------\n",
      "PROGRESS: Number of examples          : 141799\n",
      "PROGRESS: Number of classes           : 5\n",
      "PROGRESS: Number of feature columns   : 18\n",
      "PROGRESS: Number of unpacked features : 18\n",
      "PROGRESS: Starting Boosted Trees\n",
      "PROGRESS: --------------------------------------------------------\n",
      "PROGRESS:   Iter      Accuracy          Elapsed time\n",
      "PROGRESS:         (training) (validation)\n",
      "PROGRESS:      0   9.529e-01   9.509e-01        0.32s\n",
      "PROGRESS:      1   9.677e-01   9.638e-01        0.75s\n",
      "PROGRESS:      2   9.759e-01   9.738e-01        1.29s\n",
      "PROGRESS:      3   9.810e-01   9.791e-01        1.89s\n",
      "PROGRESS:      4   9.843e-01   9.813e-01        2.19s\n",
      "PROGRESS:      5   9.854e-01   9.829e-01        2.53s\n",
      "PROGRESS:      6   9.878e-01   9.843e-01        2.97s\n",
      "PROGRESS:      7   9.891e-01   9.857e-01        3.33s\n",
      "PROGRESS:      8   9.904e-01   9.876e-01        3.62s\n",
      "PROGRESS:      9   9.913e-01   9.889e-01        3.92s\n",
      "PROGRESS:     10   9.921e-01   9.899e-01        4.24s\n",
      "PROGRESS:     11   9.927e-01   9.907e-01        4.54s\n",
      "PROGRESS:     12   9.935e-01   9.918e-01        4.91s\n",
      "PROGRESS:     13   9.942e-01   9.923e-01        5.32s\n",
      "PROGRESS:     14   9.947e-01   9.933e-01        5.68s\n",
      "PROGRESS:     15   9.954e-01   9.940e-01        6.24s\n",
      "PROGRESS:     16   9.957e-01   9.943e-01        6.54s\n",
      "PROGRESS:     17   9.959e-01   9.940e-01        6.87s\n",
      "PROGRESS:     18   9.962e-01   9.945e-01        7.20s\n",
      "PROGRESS:     19   9.964e-01   9.952e-01        7.52s\n",
      "PROGRESS:     20   9.968e-01   9.954e-01        7.81s\n",
      "PROGRESS:     21   9.971e-01   9.962e-01        8.08s\n",
      "PROGRESS:     22   9.973e-01   9.960e-01        8.41s\n",
      "PROGRESS:     23   9.975e-01   9.960e-01        8.69s\n",
      "PROGRESS:     24   9.977e-01   9.960e-01        8.96s\n",
      "PROGRESS:     25   9.980e-01   9.962e-01        9.28s\n",
      "PROGRESS:     26   9.981e-01   9.962e-01        9.56s\n",
      "PROGRESS:     27   9.982e-01   9.960e-01        9.84s\n",
      "PROGRESS:     28   9.983e-01   9.960e-01       10.11s\n",
      "PROGRESS:     29   9.984e-01   9.963e-01       10.39s\n",
      "PROGRESS:     30   9.986e-01   9.966e-01       10.65s\n",
      "PROGRESS:     31   9.988e-01   9.964e-01       10.99s\n",
      "PROGRESS:     32   9.988e-01   9.966e-01       11.28s\n",
      "PROGRESS:     33   9.989e-01   9.966e-01       11.55s\n",
      "PROGRESS:     34   9.990e-01   9.967e-01       11.87s\n",
      "PROGRESS:     35   9.991e-01   9.969e-01       12.18s\n",
      "PROGRESS:     36   9.991e-01   9.969e-01       12.49s\n",
      "PROGRESS:     37   9.992e-01   9.969e-01       12.83s\n",
      "PROGRESS:     38   9.992e-01   9.969e-01       13.09s\n",
      "PROGRESS:     39   9.993e-01   9.969e-01       13.39s\n",
      "PROGRESS:     40   9.993e-01   9.969e-01       13.68s\n",
      "PROGRESS:     41   9.993e-01   9.969e-01       13.99s\n",
      "PROGRESS:     42   9.994e-01   9.969e-01       14.27s\n",
      "PROGRESS:     43   9.994e-01   9.970e-01       14.59s\n",
      "PROGRESS:     44   9.994e-01   9.971e-01       14.93s\n",
      "PROGRESS:     45   9.994e-01   9.970e-01       15.27s\n",
      "PROGRESS:     46   9.995e-01   9.970e-01       15.63s\n",
      "PROGRESS:     47   9.996e-01   9.971e-01       15.93s\n",
      "PROGRESS:     48   9.996e-01   9.971e-01       16.21s\n",
      "PROGRESS:     49   9.996e-01   9.971e-01       16.51s\n",
      "PROGRESS:     50   9.996e-01   9.971e-01       16.81s\n",
      "PROGRESS:     51   9.997e-01   9.971e-01       17.15s\n",
      "PROGRESS:     52   9.997e-01   9.971e-01       17.43s\n",
      "PROGRESS:     53   9.997e-01   9.970e-01       17.69s\n",
      "PROGRESS:     54   9.997e-01   9.970e-01       17.94s\n",
      "PROGRESS:     55   9.997e-01   9.970e-01       18.22s\n",
      "PROGRESS:     56   9.997e-01   9.970e-01       18.55s\n",
      "PROGRESS:     57   9.997e-01   9.970e-01       18.80s\n",
      "PROGRESS:     58   9.998e-01   9.971e-01       19.15s\n",
      "PROGRESS:     59   9.998e-01   9.971e-01       19.45s\n",
      "PROGRESS:     60   9.998e-01   9.970e-01       19.76s\n",
      "PROGRESS:     61   9.998e-01   9.970e-01       20.18s\n",
      "PROGRESS:     62   9.998e-01   9.970e-01       20.48s\n",
      "PROGRESS:     63   9.998e-01   9.973e-01       20.76s\n",
      "PROGRESS:     64   9.999e-01   9.973e-01       21.03s\n",
      "PROGRESS:     65   9.998e-01   9.971e-01       21.29s\n",
      "PROGRESS:     66   9.999e-01   9.973e-01       21.56s\n",
      "PROGRESS:     67   9.999e-01   9.971e-01       22.01s\n",
      "PROGRESS:     68   9.999e-01   9.973e-01       22.27s\n",
      "PROGRESS:     69   9.999e-01   9.973e-01       22.52s\n",
      "PROGRESS:     70   9.999e-01   9.973e-01       22.80s\n",
      "PROGRESS:     71   9.999e-01   9.973e-01       23.09s\n",
      "PROGRESS:     72   9.999e-01   9.973e-01       23.47s\n",
      "PROGRESS:     73   9.999e-01   9.973e-01       23.74s\n",
      "PROGRESS:     74   9.999e-01   9.973e-01       24.01s\n",
      "PROGRESS:     75   9.999e-01   9.971e-01       24.29s\n",
      "PROGRESS:     76   9.999e-01   9.971e-01       24.60s\n",
      "PROGRESS:     77   9.999e-01   9.971e-01       24.92s\n",
      "PROGRESS:     78   9.999e-01   9.971e-01       25.23s\n",
      "PROGRESS:     79   9.999e-01   9.971e-01       25.51s\n",
      "PROGRESS:     80   9.999e-01   9.971e-01       25.79s\n",
      "PROGRESS:     81   9.999e-01   9.971e-01       26.07s\n",
      "PROGRESS:     82   9.999e-01   9.973e-01       26.33s\n",
      "PROGRESS:     83   9.999e-01   9.973e-01       26.59s\n",
      "PROGRESS:     84   9.999e-01   9.973e-01       26.83s\n",
      "PROGRESS:     85   9.999e-01   9.973e-01       27.06s\n",
      "PROGRESS:     86   9.999e-01   9.971e-01       27.31s\n",
      "PROGRESS:     87   9.999e-01   9.973e-01       27.59s\n",
      "PROGRESS:     88   9.999e-01   9.973e-01       27.83s\n",
      "PROGRESS:     89   9.999e-01   9.971e-01       28.06s\n",
      "PROGRESS:     90   9.999e-01   9.973e-01       28.30s\n",
      "PROGRESS:     91   9.999e-01   9.973e-01       28.59s\n",
      "PROGRESS:     92   9.999e-01   9.973e-01       28.85s\n",
      "PROGRESS:     93   9.999e-01   9.973e-01       29.10s\n",
      "PROGRESS:     94   9.999e-01   9.971e-01       29.36s\n",
      "PROGRESS:     95   9.999e-01   9.971e-01       29.61s\n",
      "PROGRESS:     96   9.999e-01   9.971e-01       29.88s\n",
      "PROGRESS:     97   1.000e+00   9.973e-01       30.14s\n",
      "PROGRESS:     98   1.000e+00   9.973e-01       30.40s\n",
      "PROGRESS:     99   1.000e+00   9.973e-01       30.64s\n",
      "PROGRESS:    100   1.000e+00   9.973e-01       30.86s\n",
      "PROGRESS:    101   1.000e+00   9.974e-01       31.15s\n",
      "PROGRESS:    102   1.000e+00   9.973e-01       31.42s\n",
      "PROGRESS:    103   1.000e+00   9.973e-01       31.70s\n",
      "PROGRESS:    104   1.000e+00   9.973e-01       31.96s\n",
      "PROGRESS:    105   1.000e+00   9.973e-01       32.24s\n",
      "PROGRESS:    106   1.000e+00   9.973e-01       32.52s\n",
      "PROGRESS:    107   1.000e+00   9.973e-01       33.07s\n",
      "PROGRESS:    108   1.000e+00   9.971e-01       33.36s\n",
      "PROGRESS:    109   1.000e+00   9.971e-01       33.63s\n",
      "PROGRESS:    110   1.000e+00   9.973e-01       33.99s\n",
      "PROGRESS:    111   1.000e+00   9.973e-01       34.23s\n",
      "PROGRESS:    112   1.000e+00   9.973e-01       34.47s\n",
      "PROGRESS:    113   1.000e+00   9.973e-01       34.71s\n",
      "PROGRESS:    114   1.000e+00   9.973e-01       34.94s\n",
      "PROGRESS:    115   1.000e+00   9.973e-01       35.27s\n",
      "PROGRESS:    116   1.000e+00   9.973e-01       35.57s\n",
      "PROGRESS:    117   1.000e+00   9.973e-01       35.85s\n",
      "PROGRESS:    118   1.000e+00   9.973e-01       36.12s\n",
      "PROGRESS:    119   1.000e+00   9.973e-01       36.37s\n",
      "PROGRESS:    120   1.000e+00   9.973e-01       36.67s\n",
      "PROGRESS:    121   1.000e+00   9.973e-01       36.93s\n",
      "PROGRESS:    122   1.000e+00   9.973e-01       37.20s\n",
      "PROGRESS:    123   1.000e+00   9.973e-01       37.46s\n",
      "PROGRESS:    124   1.000e+00   9.973e-01       37.72s\n",
      "PROGRESS:    125   1.000e+00   9.973e-01       37.99s\n",
      "PROGRESS:    126   1.000e+00   9.973e-01       38.23s\n",
      "PROGRESS:    127   1.000e+00   9.973e-01       38.50s\n",
      "PROGRESS:    128   1.000e+00   9.973e-01       38.77s\n",
      "PROGRESS:    129   1.000e+00   9.973e-01       39.01s\n",
      "PROGRESS:    130   1.000e+00   9.973e-01       39.26s\n",
      "PROGRESS:    131   1.000e+00   9.973e-01       39.51s\n",
      "PROGRESS:    132   1.000e+00   9.974e-01       39.76s\n",
      "PROGRESS:    133   1.000e+00   9.974e-01       40.00s\n",
      "PROGRESS:    134   1.000e+00   9.974e-01       40.22s\n",
      "PROGRESS:    135   1.000e+00   9.974e-01       40.44s\n",
      "PROGRESS:    136   1.000e+00   9.974e-01       40.69s\n",
      "PROGRESS:    137   1.000e+00   9.974e-01       40.92s\n",
      "PROGRESS:    138   1.000e+00   9.974e-01       41.19s\n",
      "PROGRESS:    139   1.000e+00   9.974e-01       41.50s\n",
      "PROGRESS:    140   1.000e+00   9.974e-01       41.86s\n",
      "PROGRESS:    141   1.000e+00   9.974e-01       42.17s\n",
      "PROGRESS:    142   1.000e+00   9.974e-01       42.42s\n",
      "PROGRESS:    143   1.000e+00   9.974e-01       42.68s\n",
      "PROGRESS:    144   1.000e+00   9.974e-01       42.95s\n",
      "PROGRESS:    145   1.000e+00   9.974e-01       43.23s\n",
      "PROGRESS:    146   1.000e+00   9.974e-01       43.44s\n",
      "PROGRESS:    147   1.000e+00   9.974e-01       43.69s\n",
      "PROGRESS:    148   1.000e+00   9.974e-01       43.95s\n",
      "PROGRESS:    149   1.000e+00   9.974e-01       44.22s\n",
      "PROGRESS:    150   1.000e+00   9.974e-01       44.50s\n",
      "PROGRESS:    151   1.000e+00   9.974e-01       44.74s\n",
      "PROGRESS:    152   1.000e+00   9.974e-01       44.97s\n",
      "PROGRESS:    153   1.000e+00   9.974e-01       45.30s\n",
      "PROGRESS:    154   1.000e+00   9.974e-01       45.54s\n",
      "PROGRESS:    155   1.000e+00   9.974e-01       45.80s\n",
      "PROGRESS:    156   1.000e+00   9.974e-01       46.16s\n",
      "PROGRESS:    157   1.000e+00   9.974e-01       46.39s\n",
      "PROGRESS:    158   1.000e+00   9.974e-01       46.64s\n",
      "PROGRESS:    159   1.000e+00   9.974e-01       46.87s\n",
      "PROGRESS:    160   1.000e+00   9.974e-01       47.08s\n",
      "PROGRESS:    161   1.000e+00   9.974e-01       47.30s\n",
      "PROGRESS:    162   1.000e+00   9.974e-01       47.55s\n",
      "PROGRESS:    163   1.000e+00   9.974e-01       47.80s\n",
      "PROGRESS:    164   1.000e+00   9.974e-01       48.02s\n",
      "PROGRESS:    165   1.000e+00   9.974e-01       48.26s\n",
      "PROGRESS:    166   1.000e+00   9.974e-01       48.46s\n",
      "PROGRESS:    167   1.000e+00   9.974e-01       48.70s\n",
      "PROGRESS:    168   1.000e+00   9.974e-01       48.93s\n",
      "PROGRESS:    169   1.000e+00   9.974e-01       49.20s\n",
      "{'confusion_matrix': Columns:\n",
      "\ttarget_label\tint\n",
      "\tpredicted_label\tint\n",
      "\tcount\tint\n",
      "\n",
      "Rows: 15\n",
      "\n",
      "Data:\n",
      "+--------------+-----------------+-------+\n",
      "| target_label | predicted_label | count |\n",
      "+--------------+-----------------+-------+\n",
      "|      3       |        4        |   7   |\n",
      "|      3       |        3        |  1239 |\n",
      "|      1       |        2        |   2   |\n",
      "|      2       |        4        |   11  |\n",
      "|      3       |        2        |   3   |\n",
      "|      4       |        3        |   5   |\n",
      "|      4       |        2        |   3   |\n",
      "|      0       |        0        |  5149 |\n",
      "|      4       |        1        |   1   |\n",
      "|      2       |        2        |  4766 |\n",
      "+--------------+-----------------+-------+\n",
      "[15 rows x 3 columns]\n",
      "Note: Only the head of the SFrame is printed.\n",
      "You can use print_rows(num_rows=m, num_columns=n) to print more rows and columns., 'accuracy': 0.9972146533454436}\n"
     ]
    }
   ],
   "source": [
    "# take the best coefficients from the best row in the previous cell and build a model from it\n",
    "\n",
    "train, test = sf.random_split(.9)  #randomly choose 10% of the data and set aside for model verification\n",
    "model = gl.boosted_trees_classifier.create(train, target='class', column_subsample=.55, max_depth=9, \n",
    "                                           max_iterations=170, min_child_weight=8, min_loss_reduction=0,\n",
    "                                           row_subsample=.85, step_size=.3)\n",
    "# inspect the quality of the model\n",
    "res = model.evaluate(test)\n",
    "print res"
   ]
  },
  {
   "cell_type": "code",
   "execution_count": 83,
   "metadata": {
    "collapsed": false
   },
   "outputs": [
    {
     "name": "stdout",
     "output_type": "stream",
     "text": [
      "{'confusion_matrix': Columns:\n",
      "\ttarget_label\tint\n",
      "\tpredicted_label\tint\n",
      "\tcount\tint\n",
      "\n",
      "Rows: 15\n",
      "\n",
      "Data:\n",
      "+--------------+-----------------+-------+\n",
      "| target_label | predicted_label | count |\n",
      "+--------------+-----------------+-------+\n",
      "|      3       |        4        |   7   |\n",
      "|      3       |        3        |  1239 |\n",
      "|      1       |        2        |   2   |\n",
      "|      2       |        4        |   11  |\n",
      "|      3       |        2        |   3   |\n",
      "|      4       |        3        |   5   |\n",
      "|      4       |        2        |   3   |\n",
      "|      0       |        0        |  5149 |\n",
      "|      4       |        1        |   1   |\n",
      "|      2       |        2        |  4766 |\n",
      "+--------------+-----------------+-------+\n",
      "[15 rows x 3 columns]\n",
      "Note: Only the head of the SFrame is printed.\n",
      "You can use print_rows(num_rows=m, num_columns=n) to print more rows and columns., 'accuracy': 0.9972146533454436}\n"
     ]
    }
   ],
   "source": [
    "# inspect the quality of the model\n",
    "res = model.evaluate(test)\n",
    "print res"
   ]
  },
  {
   "cell_type": "markdown",
   "metadata": {},
   "source": [
    "Note the high accuracy of 99.72% beats out the best model of 99.6% seen on page 9 of this presentation:\n",
    "\n",
    "http://groupware.les.inf.puc-rio.br/public/2012.SBIA.Ugulino.WearableComputing-Presentation.pdf\n"
   ]
  },
  {
   "cell_type": "code",
   "execution_count": 84,
   "metadata": {
    "collapsed": false
   },
   "outputs": [],
   "source": [
    "# record what features are important\n",
    "i_feats = model.get_feature_importance()\n",
    "f_imps = i_feats['count']"
   ]
  },
  {
   "cell_type": "code",
   "execution_count": 85,
   "metadata": {
    "collapsed": false
   },
   "outputs": [
    {
     "data": {
      "text/plain": [
       "[<matplotlib.lines.Line2D at 0x7f1d31aa6490>]"
      ]
     },
     "execution_count": 85,
     "metadata": {},
     "output_type": "execute_result"
    },
    {
     "data": {
      "image/png": "[encoded data removed]",
      "text/plain": [
       "<matplotlib.figure.Figure at 0x7f1d32794890>"
      ]
     },
     "metadata": {},
     "output_type": "display_data"
    }
   ],
   "source": [
    "# Note that of the 50 features, some have high utility (2600 on the y-axis) and some have low utility (almost 0), but all of them are useful.\n",
    "plt.plot(f_imps)"
   ]
  },
  {
   "cell_type": "code",
   "execution_count": 86,
   "metadata": {
    "collapsed": false
   },
   "outputs": [
    {
     "name": "stdout",
     "output_type": "stream",
     "text": [
      "+--------------------+-------+\n",
      "|      feature       | count |\n",
      "+--------------------+-------+\n",
      "|         y2         |  2175 |\n",
      "|         z1         |  2172 |\n",
      "|         z2         |  2171 |\n",
      "|         x4         |  2030 |\n",
      "|         x3         |  1979 |\n",
      "|         x2         |  1921 |\n",
      "|         y3         |  1903 |\n",
      "|         z3         |  1887 |\n",
      "|         y4         |  1753 |\n",
      "|         z4         |  1601 |\n",
      "|         y1         |  1543 |\n",
      "|         x1         |  1437 |\n",
      "|        age         |  400  |\n",
      "|        user        |  315  |\n",
      "|  body_mass_index   |  310  |\n",
      "| how_tall_in_meters |  302  |\n",
      "|       weight       |  250  |\n",
      "|       gender       |  139  |\n",
      "+--------------------+-------+\n",
      "[18 rows x 2 columns]\n",
      "\n"
     ]
    }
   ],
   "source": [
    "# Inspect that of the top features we see \n",
    "i_feats.print_rows(25)"
   ]
  },
  {
   "cell_type": "markdown",
   "metadata": {},
   "source": [
    "ROLL and PITCH compose many of the top features"
   ]
  },
  {
   "cell_type": "markdown",
   "metadata": {},
   "source": [
    "Conclusion: We can say that feature engineering likely improved our model but to make sure we can run our model again without the feature engineering"
   ]
  },
  {
   "cell_type": "code",
   "execution_count": 43,
   "metadata": {
    "collapsed": false
   },
   "outputs": [
    {
     "name": "stdout",
     "output_type": "stream",
     "text": [
      "converting ['debora' 'katia' 'wallace' 'jose_carlos']\n",
      "into...... [0, 1, 2, 3]\n",
      "converting ['Woman' 'Man']\n",
      "into...... [0, 1]\n",
      "converting ['sitting' 'sittingdown' 'standing' 'standingup' 'walking']\n",
      "into...... [0, 1, 2, 3, 4]\n"
     ]
    }
   ],
   "source": [
    "df = pd.read_csv (file_path, delimiter =\";\")  #re-read in our data\n",
    "df = fix_data(df)  # fix our data\n",
    "df = convert_columns_to_unique_ints(df) # fix our data\n",
    "sf = gl.SFrame(data = df)   #turn data frame into GraphLab SFrame object"
   ]
  },
  {
   "cell_type": "code",
   "execution_count": 44,
   "metadata": {
    "collapsed": false
   },
   "outputs": [
    {
     "name": "stdout",
     "output_type": "stream",
     "text": [
      "PROGRESS: Creating a validation set from 5 percent of training data. This may take a while.\n",
      "          You can set ``validation_set=None`` to disable validation tracking.\n",
      "\n",
      "PROGRESS: Boosted trees classifier:\n",
      "PROGRESS: --------------------------------------------------------\n",
      "PROGRESS: Number of examples          : 141304\n",
      "PROGRESS: Number of classes           : 5\n",
      "PROGRESS: Number of feature columns   : 18\n",
      "PROGRESS: Number of unpacked features : 18\n",
      "PROGRESS: Starting Boosted Trees\n",
      "PROGRESS: --------------------------------------------------------\n",
      "PROGRESS:   Iter      Accuracy          Elapsed time\n",
      "PROGRESS:         (training) (validation)\n",
      "PROGRESS:      0   9.628e-01   9.556e-01        0.39s\n",
      "PROGRESS:      1   9.751e-01   9.685e-01        0.71s\n",
      "PROGRESS:      2   9.788e-01   9.745e-01        1.04s\n",
      "PROGRESS:      3   9.813e-01   9.781e-01        1.37s\n",
      "PROGRESS:      4   9.821e-01   9.803e-01        1.70s\n",
      "PROGRESS:      5   9.836e-01   9.821e-01        2.05s\n",
      "PROGRESS:      6   9.842e-01   9.825e-01        2.35s\n",
      "PROGRESS:      7   9.847e-01   9.832e-01        2.65s\n",
      "PROGRESS:      8   9.848e-01   9.828e-01        2.98s\n",
      "PROGRESS:      9   9.854e-01   9.834e-01        3.29s\n",
      "PROGRESS:     10   9.859e-01   9.836e-01        3.60s\n",
      "PROGRESS:     11   9.864e-01   9.841e-01        3.90s\n",
      "PROGRESS:     12   9.864e-01   9.841e-01        4.23s\n",
      "PROGRESS:     13   9.867e-01   9.846e-01        4.53s\n",
      "PROGRESS:     14   9.874e-01   9.845e-01        4.85s\n",
      "PROGRESS:     15   9.877e-01   9.850e-01        5.15s\n",
      "PROGRESS:     16   9.883e-01   9.851e-01        5.59s\n",
      "PROGRESS:     17   9.888e-01   9.860e-01        5.88s\n",
      "PROGRESS:     18   9.891e-01   9.869e-01        6.18s\n",
      "PROGRESS:     19   9.895e-01   9.876e-01        6.50s\n",
      "PROGRESS:     20   9.900e-01   9.880e-01        6.82s\n",
      "PROGRESS:     21   9.904e-01   9.877e-01        7.13s\n",
      "PROGRESS:     22   9.908e-01   9.880e-01        7.45s\n",
      "PROGRESS:     23   9.912e-01   9.883e-01        7.77s\n",
      "PROGRESS:     24   9.916e-01   9.890e-01        8.10s\n",
      "PROGRESS:     25   9.920e-01   9.893e-01        8.43s\n",
      "PROGRESS:     26   9.923e-01   9.898e-01        8.76s\n",
      "PROGRESS:     27   9.927e-01   9.900e-01        9.07s\n",
      "PROGRESS:     28   9.930e-01   9.899e-01        9.36s\n",
      "PROGRESS:     29   9.932e-01   9.903e-01        9.66s\n",
      "PROGRESS:     30   9.934e-01   9.900e-01        9.96s\n",
      "PROGRESS:     31   9.937e-01   9.900e-01       10.25s\n",
      "PROGRESS:     32   9.938e-01   9.904e-01       10.55s\n",
      "PROGRESS:     33   9.940e-01   9.906e-01       10.84s\n",
      "PROGRESS:     34   9.942e-01   9.906e-01       11.18s\n",
      "PROGRESS:     35   9.944e-01   9.909e-01       11.49s\n",
      "PROGRESS:     36   9.947e-01   9.912e-01       11.79s\n",
      "PROGRESS:     37   9.949e-01   9.912e-01       12.10s\n",
      "PROGRESS:     38   9.952e-01   9.913e-01       12.40s\n",
      "PROGRESS:     39   9.954e-01   9.915e-01       12.73s\n",
      "PROGRESS:     40   9.956e-01   9.916e-01       13.05s\n",
      "PROGRESS:     41   9.957e-01   9.917e-01       13.36s\n",
      "PROGRESS:     42   9.959e-01   9.918e-01       13.68s\n",
      "PROGRESS:     43   9.961e-01   9.920e-01       14.04s\n",
      "PROGRESS:     44   9.962e-01   9.921e-01       14.36s\n",
      "PROGRESS:     45   9.964e-01   9.922e-01       14.68s\n",
      "PROGRESS:     46   9.966e-01   9.925e-01       15.01s\n",
      "PROGRESS:     47   9.968e-01   9.925e-01       15.32s\n",
      "PROGRESS:     48   9.969e-01   9.929e-01       15.63s\n",
      "PROGRESS:     49   9.970e-01   9.930e-01       15.93s\n",
      "PROGRESS:     50   9.971e-01   9.934e-01       16.24s\n",
      "PROGRESS:     51   9.973e-01   9.934e-01       16.56s\n",
      "PROGRESS:     52   9.974e-01   9.937e-01       16.87s\n",
      "PROGRESS:     53   9.975e-01   9.939e-01       17.22s\n",
      "PROGRESS:     54   9.976e-01   9.940e-01       17.52s\n",
      "PROGRESS:     55   9.977e-01   9.942e-01       17.88s\n",
      "PROGRESS:     56   9.978e-01   9.942e-01       18.17s\n",
      "PROGRESS:     57   9.979e-01   9.944e-01       18.48s\n",
      "PROGRESS:     58   9.980e-01   9.946e-01       18.83s\n",
      "PROGRESS:     59   9.981e-01   9.946e-01       19.13s\n",
      "PROGRESS:     60   9.981e-01   9.948e-01       19.43s\n",
      "PROGRESS:     61   9.982e-01   9.947e-01       19.72s\n",
      "PROGRESS:     62   9.983e-01   9.948e-01       20.02s\n",
      "PROGRESS:     63   9.983e-01   9.948e-01       20.33s\n",
      "PROGRESS:     64   9.984e-01   9.948e-01       20.63s\n",
      "PROGRESS:     65   9.984e-01   9.950e-01       20.93s\n",
      "PROGRESS:     66   9.985e-01   9.952e-01       21.22s\n",
      "PROGRESS:     67   9.985e-01   9.955e-01       21.53s\n",
      "PROGRESS:     68   9.985e-01   9.956e-01       21.85s\n",
      "PROGRESS:     69   9.986e-01   9.956e-01       22.12s\n",
      "PROGRESS:     70   9.986e-01   9.956e-01       22.40s\n",
      "PROGRESS:     71   9.986e-01   9.956e-01       22.68s\n",
      "PROGRESS:     72   9.987e-01   9.956e-01       22.96s\n",
      "PROGRESS:     73   9.987e-01   9.957e-01       23.30s\n",
      "PROGRESS:     74   9.988e-01   9.957e-01       23.60s\n",
      "PROGRESS:     75   9.988e-01   9.957e-01       23.89s\n",
      "PROGRESS:     76   9.989e-01   9.959e-01       24.20s\n",
      "PROGRESS:     77   9.990e-01   9.959e-01       24.48s\n",
      "PROGRESS:     78   9.990e-01   9.960e-01       24.76s\n",
      "PROGRESS:     79   9.991e-01   9.959e-01       25.02s\n",
      "PROGRESS:     80   9.992e-01   9.960e-01       25.30s\n",
      "PROGRESS:     81   9.992e-01   9.960e-01       25.61s\n",
      "PROGRESS:     82   9.992e-01   9.961e-01       25.90s\n",
      "PROGRESS:     83   9.993e-01   9.961e-01       26.21s\n",
      "PROGRESS:     84   9.993e-01   9.961e-01       26.52s\n",
      "PROGRESS:     85   9.993e-01   9.961e-01       26.83s\n",
      "PROGRESS:     86   9.994e-01   9.961e-01       27.12s\n",
      "PROGRESS:     87   9.994e-01   9.960e-01       27.41s\n",
      "PROGRESS:     88   9.994e-01   9.961e-01       27.70s\n",
      "PROGRESS:     89   9.994e-01   9.961e-01       28.02s\n",
      "PROGRESS:     90   9.994e-01   9.961e-01       28.31s\n",
      "PROGRESS:     91   9.995e-01   9.962e-01       28.58s\n",
      "PROGRESS:     92   9.995e-01   9.962e-01       28.86s\n",
      "PROGRESS:     93   9.995e-01   9.961e-01       29.13s\n",
      "PROGRESS:     94   9.995e-01   9.961e-01       29.46s\n",
      "PROGRESS:     95   9.996e-01   9.961e-01       29.75s\n",
      "PROGRESS:     96   9.996e-01   9.961e-01       30.05s\n",
      "PROGRESS:     97   9.996e-01   9.962e-01       30.35s\n",
      "PROGRESS:     98   9.996e-01   9.962e-01       30.63s\n",
      "PROGRESS:     99   9.996e-01   9.964e-01       30.97s\n",
      "PROGRESS:    100   9.996e-01   9.964e-01       31.25s\n",
      "PROGRESS:    101   9.997e-01   9.964e-01       31.55s\n",
      "PROGRESS:    102   9.997e-01   9.964e-01       31.85s\n",
      "PROGRESS:    103   9.997e-01   9.964e-01       32.14s\n",
      "PROGRESS:    104   9.997e-01   9.964e-01       32.47s\n",
      "PROGRESS:    105   9.997e-01   9.964e-01       32.76s\n",
      "PROGRESS:    106   9.997e-01   9.964e-01       33.05s\n",
      "PROGRESS:    107   9.997e-01   9.964e-01       33.33s\n",
      "PROGRESS:    108   9.998e-01   9.964e-01       33.63s\n",
      "PROGRESS:    109   9.998e-01   9.964e-01       33.94s\n",
      "PROGRESS:    110   9.998e-01   9.964e-01       34.25s\n",
      "PROGRESS:    111   9.998e-01   9.964e-01       34.53s\n",
      "PROGRESS:    112   9.998e-01   9.964e-01       34.80s\n",
      "PROGRESS:    113   9.998e-01   9.964e-01       35.08s\n",
      "PROGRESS:    114   9.998e-01   9.964e-01       35.35s\n",
      "PROGRESS:    115   9.998e-01   9.964e-01       35.65s\n",
      "PROGRESS:    116   9.998e-01   9.964e-01       35.95s\n",
      "PROGRESS:    117   9.998e-01   9.964e-01       36.24s\n",
      "PROGRESS:    118   9.998e-01   9.964e-01       36.53s\n",
      "PROGRESS:    119   9.998e-01   9.964e-01       36.82s\n",
      "PROGRESS:    120   9.998e-01   9.964e-01       37.14s\n",
      "PROGRESS:    121   9.998e-01   9.964e-01       37.41s\n",
      "PROGRESS:    122   9.999e-01   9.962e-01       37.68s\n",
      "PROGRESS:    123   9.999e-01   9.964e-01       37.96s\n",
      "PROGRESS:    124   9.999e-01   9.965e-01       38.24s\n",
      "PROGRESS:    125   9.999e-01   9.964e-01       38.53s\n",
      "PROGRESS:    126   9.999e-01   9.965e-01       38.80s\n",
      "PROGRESS:    127   9.999e-01   9.966e-01       39.09s\n",
      "PROGRESS:    128   9.999e-01   9.968e-01       39.37s\n",
      "PROGRESS:    129   9.999e-01   9.968e-01       39.66s\n",
      "PROGRESS:    130   9.999e-01   9.968e-01       39.95s\n",
      "PROGRESS:    131   9.999e-01   9.968e-01       40.25s\n",
      "PROGRESS:    132   9.999e-01   9.966e-01       40.53s\n",
      "PROGRESS:    133   9.999e-01   9.966e-01       40.81s\n",
      "PROGRESS:    134   1.000e+00   9.968e-01       41.10s\n",
      "PROGRESS:    135   1.000e+00   9.968e-01       41.39s\n",
      "PROGRESS:    136   1.000e+00   9.968e-01       41.70s\n",
      "PROGRESS:    137   1.000e+00   9.968e-01       41.99s\n",
      "PROGRESS:    138   1.000e+00   9.968e-01       42.29s\n",
      "PROGRESS:    139   1.000e+00   9.969e-01       42.58s\n",
      "PROGRESS:    140   1.000e+00   9.969e-01       42.88s\n",
      "PROGRESS:    141   1.000e+00   9.969e-01       43.20s\n",
      "PROGRESS:    142   1.000e+00   9.969e-01       43.49s\n",
      "PROGRESS:    143   1.000e+00   9.969e-01       43.77s\n",
      "PROGRESS:    144   1.000e+00   9.969e-01       44.05s\n",
      "PROGRESS:    145   1.000e+00   9.969e-01       44.32s\n",
      "PROGRESS:    146   1.000e+00   9.969e-01       44.61s\n",
      "PROGRESS:    147   1.000e+00   9.968e-01       44.92s\n",
      "PROGRESS:    148   1.000e+00   9.969e-01       45.21s\n",
      "PROGRESS:    149   1.000e+00   9.966e-01       45.54s\n",
      "PROGRESS:    150   1.000e+00   9.966e-01       45.83s\n",
      "PROGRESS:    151   1.000e+00   9.965e-01       46.14s\n",
      "PROGRESS:    152   1.000e+00   9.965e-01       46.44s\n",
      "PROGRESS:    153   1.000e+00   9.966e-01       46.72s\n",
      "PROGRESS:    154   1.000e+00   9.965e-01       47.02s\n",
      "PROGRESS:    155   1.000e+00   9.965e-01       47.29s\n",
      "PROGRESS:    156   1.000e+00   9.964e-01       47.58s\n",
      "PROGRESS:    157   1.000e+00   9.966e-01       47.88s\n",
      "PROGRESS:    158   1.000e+00   9.966e-01       48.16s\n",
      "PROGRESS:    159   1.000e+00   9.965e-01       48.42s\n",
      "PROGRESS:    160   1.000e+00   9.964e-01       48.70s\n",
      "PROGRESS:    161   1.000e+00   9.964e-01       48.97s\n",
      "PROGRESS:    162   1.000e+00   9.964e-01       49.23s\n",
      "PROGRESS:    163   1.000e+00   9.965e-01       49.50s\n",
      "PROGRESS:    164   1.000e+00   9.964e-01       49.77s\n",
      "PROGRESS:    165   1.000e+00   9.965e-01       50.05s\n",
      "PROGRESS:    166   1.000e+00   9.966e-01       50.31s\n",
      "PROGRESS:    167   1.000e+00   9.964e-01       50.58s\n",
      "PROGRESS:    168   1.000e+00   9.965e-01       50.90s\n",
      "PROGRESS:    169   1.000e+00   9.965e-01       51.19s\n",
      "PROGRESS:    170   1.000e+00   9.965e-01       51.50s\n",
      "PROGRESS:    171   1.000e+00   9.964e-01       51.80s\n",
      "PROGRESS:    172   1.000e+00   9.965e-01       52.09s\n",
      "PROGRESS:    173   1.000e+00   9.964e-01       52.39s\n",
      "PROGRESS:    174   1.000e+00   9.965e-01       52.65s\n",
      "PROGRESS:    175   1.000e+00   9.965e-01       52.91s\n",
      "PROGRESS:    176   1.000e+00   9.965e-01       53.18s\n",
      "PROGRESS:    177   1.000e+00   9.965e-01       53.50s\n",
      "PROGRESS:    178   1.000e+00   9.965e-01       53.80s\n",
      "PROGRESS:    179   1.000e+00   9.966e-01       54.09s\n"
     ]
    }
   ],
   "source": [
    "train, test = sf.random_split(.9)  #randomly choose 10% of the data and set aside for model verification\n",
    "model = gl.boosted_trees_classifier.create(train, target='class', column_subsample=.7, max_depth=9, \n",
    "                                           max_iterations=180, min_child_weight=1, min_loss_reduction=0,\n",
    "                                           row_subsample=.7, step_size=.1)"
   ]
  },
  {
   "cell_type": "code",
   "execution_count": 45,
   "metadata": {
    "collapsed": false
   },
   "outputs": [
    {
     "name": "stdout",
     "output_type": "stream",
     "text": [
      "{'confusion_matrix': Columns:\n",
      "\ttarget_label\tint\n",
      "\tpredicted_label\tint\n",
      "\tcount\tint\n",
      "\n",
      "Rows: 16\n",
      "\n",
      "Data:\n",
      "+--------------+-----------------+-------+\n",
      "| target_label | predicted_label | count |\n",
      "+--------------+-----------------+-------+\n",
      "|      3       |        4        |   3   |\n",
      "|      3       |        3        |  1252 |\n",
      "|      1       |        2        |   2   |\n",
      "|      2       |        4        |   3   |\n",
      "|      3       |        2        |   5   |\n",
      "|      1       |        3        |   7   |\n",
      "|      4       |        3        |   2   |\n",
      "|      4       |        2        |   7   |\n",
      "|      0       |        0        |  5154 |\n",
      "|      3       |        1        |   6   |\n",
      "+--------------+-----------------+-------+\n",
      "[16 rows x 3 columns]\n",
      "Note: Only the head of the SFrame is printed.\n",
      "You can use print_rows(num_rows=m, num_columns=n) to print more rows and columns., 'accuracy': 0.9973498765283383}\n"
     ]
    }
   ],
   "source": [
    "# inspect the quality of the model\n",
    "res = model.evaluate(test)\n",
    "print res"
   ]
  },
  {
   "cell_type": "code",
   "execution_count": 46,
   "metadata": {
    "collapsed": true
   },
   "outputs": [],
   "source": [
    "# record what features are important\n",
    "i_feats = model.get_feature_importance()\n",
    "f_imps = i_feats['count']"
   ]
  },
  {
   "cell_type": "code",
   "execution_count": 47,
   "metadata": {
    "collapsed": false
   },
   "outputs": [
    {
     "data": {
      "text/plain": [
       "[<matplotlib.lines.Line2D at 0x7f1d31c2da10>]"
      ]
     },
     "execution_count": 47,
     "metadata": {},
     "output_type": "execute_result"
    },
    {
     "data": {
      "image/png": "[encoded data removed]",
      "text/plain": [
       "<matplotlib.figure.Figure at 0x7f1d31cbda50>"
      ]
     },
     "metadata": {},
     "output_type": "display_data"
    }
   ],
   "source": [
    "# Note that of the 50 features, some have high utility (2600 on the y-axis) and some have low utility (almost 0), but all of them are useful.\n",
    "plt.plot(f_imps)"
   ]
  },
  {
   "cell_type": "code",
   "execution_count": 48,
   "metadata": {
    "collapsed": false
   },
   "outputs": [
    {
     "name": "stdout",
     "output_type": "stream",
     "text": [
      "+--------------------+-------+\n",
      "|      feature       | count |\n",
      "+--------------------+-------+\n",
      "|         z1         |  7206 |\n",
      "|         x4         |  6668 |\n",
      "|         z2         |  6566 |\n",
      "|         y2         |  6488 |\n",
      "|         x3         |  6449 |\n",
      "|         y3         |  6436 |\n",
      "|         z3         |  6147 |\n",
      "|         x2         |  5899 |\n",
      "|         z4         |  5703 |\n",
      "|         y1         |  5525 |\n",
      "|         y4         |  5135 |\n",
      "|         x1         |  4574 |\n",
      "|        age         |  1140 |\n",
      "|        user        |  946  |\n",
      "| how_tall_in_meters |  911  |\n",
      "|       weight       |  800  |\n",
      "|  body_mass_index   |  744  |\n",
      "|       gender       |  288  |\n",
      "+--------------------+-------+\n",
      "[18 rows x 2 columns]\n",
      "\n"
     ]
    }
   ],
   "source": [
    "# Inspect that of the top features we see \n",
    "i_feats.print_rows(18)"
   ]
  },
  {
   "cell_type": "code",
   "execution_count": null,
   "metadata": {
    "collapsed": true
   },
   "outputs": [],
   "source": []
  }
 ],
 "metadata": {
  "kernelspec": {
   "display_name": "Python 2",
   "language": "python",
   "name": "python2"
  },
  "language_info": {
   "codemirror_mode": {
    "name": "ipython",
    "version": 2
   },
   "file_extension": ".py",
   "mimetype": "text/x-python",
   "name": "python",
   "nbconvert_exporter": "python",
   "pygments_lexer": "ipython2",
   "version": "2.7.10"
  }
 },
 "nbformat": 4,
 "nbformat_minor": 0
}
